{
 "cells": [
  {
   "cell_type": "code",
   "execution_count": 134,
   "metadata": {
    "collapsed": true
   },
   "outputs": [],
   "source": [
    "import warnings\n",
    "warnings.filterwarnings('ignore')\n",
    "import numpy as np\n",
    "import pandas as pd\n",
    "import matplotlib.pyplot as plt\n",
    "import seaborn as sns\n",
    "import itertools\n",
    "\n",
    "from sklearn.model_selection import train_test_split\n",
    "from sklearn.metrics import accuracy_score, confusion_matrix, log_loss\n",
    "\n",
    "from sklearn.linear_model import LogisticRegression\n",
    "from sklearn.tree import DecisionTreeClassifier\n",
    "'''\n",
    "from xgboost import XGBClassifier\n",
    "from lightgbm import LGBMClassifier\n",
    "from catboost import CatBoostClassifier\n",
    "from sklearn import svm\n",
    "'''\n",
    "from sklearn.ensemble import RandomForestClassifier"
   ]
  },
  {
   "cell_type": "code",
   "execution_count": 103,
   "outputs": [],
   "source": [
    "import os\n",
    "os.chdir('C:/Users/sgsgk/Documents/머신러닝 프로젝트 스터디/creditcart-overdue-prediction/open')"
   ],
   "metadata": {
    "collapsed": false
   }
  },
  {
   "cell_type": "code",
   "execution_count": 104,
   "outputs": [],
   "source": [
    "train=pd.read_csv('train.csv')\n",
    "test=pd.read_csv('test.csv')\n",
    "submission=pd.read_csv('sample_submission.csv')"
   ],
   "metadata": {
    "collapsed": false
   }
  },
  {
   "cell_type": "code",
   "execution_count": 105,
   "outputs": [
    {
     "data": {
      "text/plain": "   index gender car reality  child_num  income_total           income_type  \\\n0      0      F   N       N          0      202500.0  Commercial associate   \n1      1      F   N       Y          1      247500.0  Commercial associate   \n2      2      M   Y       Y          0      450000.0               Working   \n3      3      F   N       Y          0      202500.0  Commercial associate   \n4      4      F   Y       Y          0      157500.0         State servant   \n\n                        edu_type     family_type           house_type  \\\n0               Higher education         Married  Municipal apartment   \n1  Secondary / secondary special  Civil marriage    House / apartment   \n2               Higher education         Married    House / apartment   \n3  Secondary / secondary special         Married    House / apartment   \n4               Higher education         Married    House / apartment   \n\n   DAYS_BIRTH  DAYS_EMPLOYED  FLAG_MOBIL  work_phone  phone  email  \\\n0      -13899          -4709           1           0      0      0   \n1      -11380          -1540           1           0      0      1   \n2      -19087          -4434           1           0      1      0   \n3      -15088          -2092           1           0      1      0   \n4      -15037          -2105           1           0      0      0   \n\n    occyp_type  family_size  begin_month  credit  \n0          NaN          2.0         -6.0     1.0  \n1     Laborers          3.0         -5.0     1.0  \n2     Managers          2.0        -22.0     2.0  \n3  Sales staff          2.0        -37.0     0.0  \n4     Managers          2.0        -26.0     2.0  ",
      "text/html": "<div>\n<style scoped>\n    .dataframe tbody tr th:only-of-type {\n        vertical-align: middle;\n    }\n\n    .dataframe tbody tr th {\n        vertical-align: top;\n    }\n\n    .dataframe thead th {\n        text-align: right;\n    }\n</style>\n<table border=\"1\" class=\"dataframe\">\n  <thead>\n    <tr style=\"text-align: right;\">\n      <th></th>\n      <th>index</th>\n      <th>gender</th>\n      <th>car</th>\n      <th>reality</th>\n      <th>child_num</th>\n      <th>income_total</th>\n      <th>income_type</th>\n      <th>edu_type</th>\n      <th>family_type</th>\n      <th>house_type</th>\n      <th>DAYS_BIRTH</th>\n      <th>DAYS_EMPLOYED</th>\n      <th>FLAG_MOBIL</th>\n      <th>work_phone</th>\n      <th>phone</th>\n      <th>email</th>\n      <th>occyp_type</th>\n      <th>family_size</th>\n      <th>begin_month</th>\n      <th>credit</th>\n    </tr>\n  </thead>\n  <tbody>\n    <tr>\n      <th>0</th>\n      <td>0</td>\n      <td>F</td>\n      <td>N</td>\n      <td>N</td>\n      <td>0</td>\n      <td>202500.0</td>\n      <td>Commercial associate</td>\n      <td>Higher education</td>\n      <td>Married</td>\n      <td>Municipal apartment</td>\n      <td>-13899</td>\n      <td>-4709</td>\n      <td>1</td>\n      <td>0</td>\n      <td>0</td>\n      <td>0</td>\n      <td>NaN</td>\n      <td>2.0</td>\n      <td>-6.0</td>\n      <td>1.0</td>\n    </tr>\n    <tr>\n      <th>1</th>\n      <td>1</td>\n      <td>F</td>\n      <td>N</td>\n      <td>Y</td>\n      <td>1</td>\n      <td>247500.0</td>\n      <td>Commercial associate</td>\n      <td>Secondary / secondary special</td>\n      <td>Civil marriage</td>\n      <td>House / apartment</td>\n      <td>-11380</td>\n      <td>-1540</td>\n      <td>1</td>\n      <td>0</td>\n      <td>0</td>\n      <td>1</td>\n      <td>Laborers</td>\n      <td>3.0</td>\n      <td>-5.0</td>\n      <td>1.0</td>\n    </tr>\n    <tr>\n      <th>2</th>\n      <td>2</td>\n      <td>M</td>\n      <td>Y</td>\n      <td>Y</td>\n      <td>0</td>\n      <td>450000.0</td>\n      <td>Working</td>\n      <td>Higher education</td>\n      <td>Married</td>\n      <td>House / apartment</td>\n      <td>-19087</td>\n      <td>-4434</td>\n      <td>1</td>\n      <td>0</td>\n      <td>1</td>\n      <td>0</td>\n      <td>Managers</td>\n      <td>2.0</td>\n      <td>-22.0</td>\n      <td>2.0</td>\n    </tr>\n    <tr>\n      <th>3</th>\n      <td>3</td>\n      <td>F</td>\n      <td>N</td>\n      <td>Y</td>\n      <td>0</td>\n      <td>202500.0</td>\n      <td>Commercial associate</td>\n      <td>Secondary / secondary special</td>\n      <td>Married</td>\n      <td>House / apartment</td>\n      <td>-15088</td>\n      <td>-2092</td>\n      <td>1</td>\n      <td>0</td>\n      <td>1</td>\n      <td>0</td>\n      <td>Sales staff</td>\n      <td>2.0</td>\n      <td>-37.0</td>\n      <td>0.0</td>\n    </tr>\n    <tr>\n      <th>4</th>\n      <td>4</td>\n      <td>F</td>\n      <td>Y</td>\n      <td>Y</td>\n      <td>0</td>\n      <td>157500.0</td>\n      <td>State servant</td>\n      <td>Higher education</td>\n      <td>Married</td>\n      <td>House / apartment</td>\n      <td>-15037</td>\n      <td>-2105</td>\n      <td>1</td>\n      <td>0</td>\n      <td>0</td>\n      <td>0</td>\n      <td>Managers</td>\n      <td>2.0</td>\n      <td>-26.0</td>\n      <td>2.0</td>\n    </tr>\n  </tbody>\n</table>\n</div>"
     },
     "execution_count": 105,
     "metadata": {},
     "output_type": "execute_result"
    }
   ],
   "source": [
    "train.head()"
   ],
   "metadata": {
    "collapsed": false
   }
  },
  {
   "cell_type": "code",
   "execution_count": 106,
   "outputs": [
    {
     "data": {
      "text/plain": "   index gender car reality  child_num  income_total           income_type  \\\n0  26457      M   Y       N          0      112500.0             Pensioner   \n1  26458      F   N       Y          0      135000.0         State servant   \n2  26459      F   N       Y          0       69372.0               Working   \n3  26460      M   Y       N          0      112500.0  Commercial associate   \n4  26461      F   Y       Y          0      225000.0         State servant   \n\n                        edu_type     family_type         house_type  \\\n0  Secondary / secondary special  Civil marriage  House / apartment   \n1               Higher education         Married  House / apartment   \n2  Secondary / secondary special         Married  House / apartment   \n3  Secondary / secondary special         Married  House / apartment   \n4               Higher education         Married  House / apartment   \n\n   DAYS_BIRTH  DAYS_EMPLOYED  FLAG_MOBIL  work_phone  phone  email  \\\n0      -21990         365243           1           0      1      0   \n1      -18964          -8671           1           0      1      0   \n2      -15887           -217           1           1      1      0   \n3      -19270          -2531           1           1      0      0   \n4      -17822          -9385           1           1      0      0   \n\n   occyp_type  family_size  begin_month  \n0         NaN          2.0        -60.0  \n1  Core staff          2.0        -36.0  \n2    Laborers          2.0        -40.0  \n3     Drivers          2.0        -41.0  \n4    Managers          2.0         -8.0  ",
      "text/html": "<div>\n<style scoped>\n    .dataframe tbody tr th:only-of-type {\n        vertical-align: middle;\n    }\n\n    .dataframe tbody tr th {\n        vertical-align: top;\n    }\n\n    .dataframe thead th {\n        text-align: right;\n    }\n</style>\n<table border=\"1\" class=\"dataframe\">\n  <thead>\n    <tr style=\"text-align: right;\">\n      <th></th>\n      <th>index</th>\n      <th>gender</th>\n      <th>car</th>\n      <th>reality</th>\n      <th>child_num</th>\n      <th>income_total</th>\n      <th>income_type</th>\n      <th>edu_type</th>\n      <th>family_type</th>\n      <th>house_type</th>\n      <th>DAYS_BIRTH</th>\n      <th>DAYS_EMPLOYED</th>\n      <th>FLAG_MOBIL</th>\n      <th>work_phone</th>\n      <th>phone</th>\n      <th>email</th>\n      <th>occyp_type</th>\n      <th>family_size</th>\n      <th>begin_month</th>\n    </tr>\n  </thead>\n  <tbody>\n    <tr>\n      <th>0</th>\n      <td>26457</td>\n      <td>M</td>\n      <td>Y</td>\n      <td>N</td>\n      <td>0</td>\n      <td>112500.0</td>\n      <td>Pensioner</td>\n      <td>Secondary / secondary special</td>\n      <td>Civil marriage</td>\n      <td>House / apartment</td>\n      <td>-21990</td>\n      <td>365243</td>\n      <td>1</td>\n      <td>0</td>\n      <td>1</td>\n      <td>0</td>\n      <td>NaN</td>\n      <td>2.0</td>\n      <td>-60.0</td>\n    </tr>\n    <tr>\n      <th>1</th>\n      <td>26458</td>\n      <td>F</td>\n      <td>N</td>\n      <td>Y</td>\n      <td>0</td>\n      <td>135000.0</td>\n      <td>State servant</td>\n      <td>Higher education</td>\n      <td>Married</td>\n      <td>House / apartment</td>\n      <td>-18964</td>\n      <td>-8671</td>\n      <td>1</td>\n      <td>0</td>\n      <td>1</td>\n      <td>0</td>\n      <td>Core staff</td>\n      <td>2.0</td>\n      <td>-36.0</td>\n    </tr>\n    <tr>\n      <th>2</th>\n      <td>26459</td>\n      <td>F</td>\n      <td>N</td>\n      <td>Y</td>\n      <td>0</td>\n      <td>69372.0</td>\n      <td>Working</td>\n      <td>Secondary / secondary special</td>\n      <td>Married</td>\n      <td>House / apartment</td>\n      <td>-15887</td>\n      <td>-217</td>\n      <td>1</td>\n      <td>1</td>\n      <td>1</td>\n      <td>0</td>\n      <td>Laborers</td>\n      <td>2.0</td>\n      <td>-40.0</td>\n    </tr>\n    <tr>\n      <th>3</th>\n      <td>26460</td>\n      <td>M</td>\n      <td>Y</td>\n      <td>N</td>\n      <td>0</td>\n      <td>112500.0</td>\n      <td>Commercial associate</td>\n      <td>Secondary / secondary special</td>\n      <td>Married</td>\n      <td>House / apartment</td>\n      <td>-19270</td>\n      <td>-2531</td>\n      <td>1</td>\n      <td>1</td>\n      <td>0</td>\n      <td>0</td>\n      <td>Drivers</td>\n      <td>2.0</td>\n      <td>-41.0</td>\n    </tr>\n    <tr>\n      <th>4</th>\n      <td>26461</td>\n      <td>F</td>\n      <td>Y</td>\n      <td>Y</td>\n      <td>0</td>\n      <td>225000.0</td>\n      <td>State servant</td>\n      <td>Higher education</td>\n      <td>Married</td>\n      <td>House / apartment</td>\n      <td>-17822</td>\n      <td>-9385</td>\n      <td>1</td>\n      <td>1</td>\n      <td>0</td>\n      <td>0</td>\n      <td>Managers</td>\n      <td>2.0</td>\n      <td>-8.0</td>\n    </tr>\n  </tbody>\n</table>\n</div>"
     },
     "execution_count": 106,
     "metadata": {},
     "output_type": "execute_result"
    }
   ],
   "source": [
    "test.head()"
   ],
   "metadata": {
    "collapsed": false
   }
  },
  {
   "cell_type": "code",
   "execution_count": 107,
   "outputs": [
    {
     "data": {
      "text/plain": "(26457, 20)"
     },
     "execution_count": 107,
     "metadata": {},
     "output_type": "execute_result"
    }
   ],
   "source": [
    "train.shape"
   ],
   "metadata": {
    "collapsed": false
   }
  },
  {
   "cell_type": "code",
   "execution_count": 108,
   "outputs": [
    {
     "data": {
      "text/plain": "(10000, 19)"
     },
     "execution_count": 108,
     "metadata": {},
     "output_type": "execute_result"
    }
   ],
   "source": [
    "test.shape"
   ],
   "metadata": {
    "collapsed": false
   }
  },
  {
   "cell_type": "code",
   "execution_count": 109,
   "outputs": [
    {
     "name": "stdout",
     "output_type": "stream",
     "text": [
      "<class 'pandas.core.frame.DataFrame'>\n",
      "RangeIndex: 26457 entries, 0 to 26456\n",
      "Data columns (total 20 columns):\n",
      " #   Column         Non-Null Count  Dtype  \n",
      "---  ------         --------------  -----  \n",
      " 0   index          26457 non-null  int64  \n",
      " 1   gender         26457 non-null  object \n",
      " 2   car            26457 non-null  object \n",
      " 3   reality        26457 non-null  object \n",
      " 4   child_num      26457 non-null  int64  \n",
      " 5   income_total   26457 non-null  float64\n",
      " 6   income_type    26457 non-null  object \n",
      " 7   edu_type       26457 non-null  object \n",
      " 8   family_type    26457 non-null  object \n",
      " 9   house_type     26457 non-null  object \n",
      " 10  DAYS_BIRTH     26457 non-null  int64  \n",
      " 11  DAYS_EMPLOYED  26457 non-null  int64  \n",
      " 12  FLAG_MOBIL     26457 non-null  int64  \n",
      " 13  work_phone     26457 non-null  int64  \n",
      " 14  phone          26457 non-null  int64  \n",
      " 15  email          26457 non-null  int64  \n",
      " 16  occyp_type     18286 non-null  object \n",
      " 17  family_size    26457 non-null  float64\n",
      " 18  begin_month    26457 non-null  float64\n",
      " 19  credit         26457 non-null  float64\n",
      "dtypes: float64(4), int64(8), object(8)\n",
      "memory usage: 4.0+ MB\n"
     ]
    }
   ],
   "source": [
    "train.info()"
   ],
   "metadata": {
    "collapsed": false
   }
  },
  {
   "cell_type": "code",
   "execution_count": 110,
   "outputs": [
    {
     "data": {
      "text/plain": "index            0\ngender           0\ncar              0\nreality          0\nchild_num        0\nincome_total     0\nincome_type      0\nedu_type         0\nfamily_type      0\nhouse_type       0\nDAYS_BIRTH       0\nDAYS_EMPLOYED    0\nFLAG_MOBIL       0\nwork_phone       0\nphone            0\nemail            0\nfamily_size      0\nbegin_month      0\ncredit           0\ndtype: int64"
     },
     "execution_count": 110,
     "metadata": {},
     "output_type": "execute_result"
    }
   ],
   "source": [
    "# 1. 결측치 제거 -> 직업 유형\n",
    "train = train.drop('occyp_type', axis=1)\n",
    "test = test.drop('occyp_type', axis=1)\n",
    "train.isnull().sum()\n",
    "# occyp를 삭제해서 결측값이 존재하지 않음"
   ],
   "metadata": {
    "collapsed": false
   }
  },
  {
   "cell_type": "code",
   "execution_count": 111,
   "outputs": [
    {
     "data": {
      "text/plain": "index            26457\ngender               2\ncar                  2\nreality              2\nchild_num            9\nincome_total       249\nincome_type          5\nedu_type             5\nfamily_type          5\nhouse_type           6\nDAYS_BIRTH        6621\nDAYS_EMPLOYED     3470\nFLAG_MOBIL           1\nwork_phone           2\nphone                2\nemail                2\nfamily_size         10\nbegin_month         61\ncredit               3\ndtype: int64"
     },
     "execution_count": 111,
     "metadata": {},
     "output_type": "execute_result"
    }
   ],
   "source": [
    "# 데이터의 요소의 개수 파악하기\n",
    "unique_len = train.apply(lambda x : len(x.unique()))\n",
    "unique_len"
   ],
   "metadata": {
    "collapsed": false
   }
  },
  {
   "cell_type": "code",
   "execution_count": 112,
   "outputs": [
    {
     "name": "stdout",
     "output_type": "stream",
     "text": [
      "Index(['child_num', 'income_type', 'edu_type', 'family_type', 'house_type',\n",
      "       'family_size', 'credit'],\n",
      "      dtype='object')\n",
      "-----\n",
      "Index(['index', 'income_total', 'DAYS_BIRTH', 'DAYS_EMPLOYED', 'begin_month'], dtype='object')\n"
     ]
    }
   ],
   "source": [
    "g2 = unique_len[(unique_len>2) &(unique_len<=10)].index\n",
    "print(g2)\n",
    "print(\"-----\")\n",
    "g3 = unique_len[(unique_len>10)].index\n",
    "print(g3)"
   ],
   "metadata": {
    "collapsed": false
   }
  },
  {
   "cell_type": "code",
   "execution_count": 113,
   "outputs": [
    {
     "data": {
      "text/plain": "      gender car reality  FLAG_MOBIL  work_phone  phone  email\n0          F   N       N           1           0      0      0\n1          F   N       Y           1           0      0      1\n2          M   Y       Y           1           0      1      0\n3          F   N       Y           1           0      1      0\n4          F   Y       Y           1           0      0      0\n...      ...  ..     ...         ...         ...    ...    ...\n26452      F   N       N           1           0      0      0\n26453      F   N       Y           1           0      0      0\n26454      F   Y       N           1           0      0      0\n26455      M   N       Y           1           0      0      0\n26456      F   N       N           1           0      0      0\n\n[26457 rows x 7 columns]",
      "text/html": "<div>\n<style scoped>\n    .dataframe tbody tr th:only-of-type {\n        vertical-align: middle;\n    }\n\n    .dataframe tbody tr th {\n        vertical-align: top;\n    }\n\n    .dataframe thead th {\n        text-align: right;\n    }\n</style>\n<table border=\"1\" class=\"dataframe\">\n  <thead>\n    <tr style=\"text-align: right;\">\n      <th></th>\n      <th>gender</th>\n      <th>car</th>\n      <th>reality</th>\n      <th>FLAG_MOBIL</th>\n      <th>work_phone</th>\n      <th>phone</th>\n      <th>email</th>\n    </tr>\n  </thead>\n  <tbody>\n    <tr>\n      <th>0</th>\n      <td>F</td>\n      <td>N</td>\n      <td>N</td>\n      <td>1</td>\n      <td>0</td>\n      <td>0</td>\n      <td>0</td>\n    </tr>\n    <tr>\n      <th>1</th>\n      <td>F</td>\n      <td>N</td>\n      <td>Y</td>\n      <td>1</td>\n      <td>0</td>\n      <td>0</td>\n      <td>1</td>\n    </tr>\n    <tr>\n      <th>2</th>\n      <td>M</td>\n      <td>Y</td>\n      <td>Y</td>\n      <td>1</td>\n      <td>0</td>\n      <td>1</td>\n      <td>0</td>\n    </tr>\n    <tr>\n      <th>3</th>\n      <td>F</td>\n      <td>N</td>\n      <td>Y</td>\n      <td>1</td>\n      <td>0</td>\n      <td>1</td>\n      <td>0</td>\n    </tr>\n    <tr>\n      <th>4</th>\n      <td>F</td>\n      <td>Y</td>\n      <td>Y</td>\n      <td>1</td>\n      <td>0</td>\n      <td>0</td>\n      <td>0</td>\n    </tr>\n    <tr>\n      <th>...</th>\n      <td>...</td>\n      <td>...</td>\n      <td>...</td>\n      <td>...</td>\n      <td>...</td>\n      <td>...</td>\n      <td>...</td>\n    </tr>\n    <tr>\n      <th>26452</th>\n      <td>F</td>\n      <td>N</td>\n      <td>N</td>\n      <td>1</td>\n      <td>0</td>\n      <td>0</td>\n      <td>0</td>\n    </tr>\n    <tr>\n      <th>26453</th>\n      <td>F</td>\n      <td>N</td>\n      <td>Y</td>\n      <td>1</td>\n      <td>0</td>\n      <td>0</td>\n      <td>0</td>\n    </tr>\n    <tr>\n      <th>26454</th>\n      <td>F</td>\n      <td>Y</td>\n      <td>N</td>\n      <td>1</td>\n      <td>0</td>\n      <td>0</td>\n      <td>0</td>\n    </tr>\n    <tr>\n      <th>26455</th>\n      <td>M</td>\n      <td>N</td>\n      <td>Y</td>\n      <td>1</td>\n      <td>0</td>\n      <td>0</td>\n      <td>0</td>\n    </tr>\n    <tr>\n      <th>26456</th>\n      <td>F</td>\n      <td>N</td>\n      <td>N</td>\n      <td>1</td>\n      <td>0</td>\n      <td>0</td>\n      <td>0</td>\n    </tr>\n  </tbody>\n</table>\n<p>26457 rows × 7 columns</p>\n</div>"
     },
     "execution_count": 113,
     "metadata": {},
     "output_type": "execute_result"
    }
   ],
   "source": [
    "# 2. 이진 변수 숫자로 변환\n",
    "train[g1]\n",
    "# 데이터가 어떻게 생겼는 지 먼저 확인"
   ],
   "metadata": {
    "collapsed": false
   }
  },
  {
   "cell_type": "code",
   "execution_count": 114,
   "outputs": [
    {
     "name": "stdout",
     "output_type": "stream",
     "text": [
      "gender, 성별:\n",
      "0    17697\n",
      "1     8760\n",
      "Name: gender, dtype: int64\n",
      "------------\n",
      "차량 소유 여부:\n",
      "0    16410\n",
      "1    10047\n",
      "Name: car, dtype: int64\n",
      "------------\n",
      "reality, 부동산 소유 여부:\n",
      "1    17830\n",
      "0     8627\n",
      "Name: reality, dtype: int64\n",
      "------------\n",
      "휴대폰 소유 여부:\n",
      "0    18672\n",
      "1     7785\n",
      "Name: phone, dtype: int64\n",
      "------------\n",
      "이메일 소유 여부:\n",
      "0    24042\n",
      "1     2415\n",
      "Name: email, dtype: int64\n",
      "------------\n",
      "업무용 전화 소유 여부:\n",
      "0    20511\n",
      "1     5946\n",
      "Name: work_phone, dtype: int64\n",
      "------------\n"
     ]
    }
   ],
   "source": [
    "# 2. 이진 변수 숫자로 변환\n",
    "train['gender'] = train['gender'].replace(['F','M'], [0,1])\n",
    "test['gender'] = test['gender'].replace(['F','M'], [0,1])\n",
    "print(\"gender, 성별:\")\n",
    "print(train['gender'].value_counts())\n",
    "print(\"------------\")\n",
    "\n",
    "train['car'] = train['car'].replace(['N','Y'], [0,1])\n",
    "test['car'] = test['car'].replace(['N','Y'], [0,1])\n",
    "print(\"차량 소유 여부:\")\n",
    "print(train['car'].value_counts())\n",
    "print(\"------------\")\n",
    "\n",
    "# 부동산 소유 여부\n",
    "train['reality'] = train['reality'].replace(['N','Y'], [0,1])\n",
    "test['reality'] = test['reality'].replace(['N','Y'], [0,1])\n",
    "print(\"reality, 부동산 소유 여부:\")\n",
    "print(train['reality'].value_counts())\n",
    "print(\"------------\")\n",
    "\n",
    "print('휴대폰 소유 여부:')\n",
    "print(train['phone'].value_counts())\n",
    "print(\"------------\")\n",
    "\n",
    "print('이메일 소유 여부:')\n",
    "print(train['email'].value_counts())\n",
    "print(\"------------\")\n",
    "\n",
    "print('업무용 전화 소유 여부:')\n",
    "print(train['work_phone'].value_counts())\n",
    "print(\"------------\")"
   ],
   "metadata": {
    "collapsed": false
   }
  },
  {
   "cell_type": "code",
   "execution_count": 115,
   "outputs": [
    {
     "data": {
      "text/plain": "       child_num           income_type                       edu_type  \\\n0              0  Commercial associate               Higher education   \n1              1  Commercial associate  Secondary / secondary special   \n2              0               Working               Higher education   \n3              0  Commercial associate  Secondary / secondary special   \n4              0         State servant               Higher education   \n...          ...                   ...                            ...   \n26452          2         State servant  Secondary / secondary special   \n26453          1               Working               Higher education   \n26454          0               Working  Secondary / secondary special   \n26455          0               Working              Incomplete higher   \n26456          0               Working  Secondary / secondary special   \n\n                family_type           house_type  family_size  credit  \n0                   Married  Municipal apartment          2.0     1.0  \n1            Civil marriage    House / apartment          3.0     1.0  \n2                   Married    House / apartment          2.0     2.0  \n3                   Married    House / apartment          2.0     0.0  \n4                   Married    House / apartment          2.0     2.0  \n...                     ...                  ...          ...     ...  \n26452               Married    House / apartment          4.0     1.0  \n26453             Separated    House / apartment          2.0     2.0  \n26454        Civil marriage         With parents          2.0     2.0  \n26455  Single / not married    House / apartment          1.0     2.0  \n26456        Civil marriage    House / apartment          2.0     2.0  \n\n[26457 rows x 7 columns]",
      "text/html": "<div>\n<style scoped>\n    .dataframe tbody tr th:only-of-type {\n        vertical-align: middle;\n    }\n\n    .dataframe tbody tr th {\n        vertical-align: top;\n    }\n\n    .dataframe thead th {\n        text-align: right;\n    }\n</style>\n<table border=\"1\" class=\"dataframe\">\n  <thead>\n    <tr style=\"text-align: right;\">\n      <th></th>\n      <th>child_num</th>\n      <th>income_type</th>\n      <th>edu_type</th>\n      <th>family_type</th>\n      <th>house_type</th>\n      <th>family_size</th>\n      <th>credit</th>\n    </tr>\n  </thead>\n  <tbody>\n    <tr>\n      <th>0</th>\n      <td>0</td>\n      <td>Commercial associate</td>\n      <td>Higher education</td>\n      <td>Married</td>\n      <td>Municipal apartment</td>\n      <td>2.0</td>\n      <td>1.0</td>\n    </tr>\n    <tr>\n      <th>1</th>\n      <td>1</td>\n      <td>Commercial associate</td>\n      <td>Secondary / secondary special</td>\n      <td>Civil marriage</td>\n      <td>House / apartment</td>\n      <td>3.0</td>\n      <td>1.0</td>\n    </tr>\n    <tr>\n      <th>2</th>\n      <td>0</td>\n      <td>Working</td>\n      <td>Higher education</td>\n      <td>Married</td>\n      <td>House / apartment</td>\n      <td>2.0</td>\n      <td>2.0</td>\n    </tr>\n    <tr>\n      <th>3</th>\n      <td>0</td>\n      <td>Commercial associate</td>\n      <td>Secondary / secondary special</td>\n      <td>Married</td>\n      <td>House / apartment</td>\n      <td>2.0</td>\n      <td>0.0</td>\n    </tr>\n    <tr>\n      <th>4</th>\n      <td>0</td>\n      <td>State servant</td>\n      <td>Higher education</td>\n      <td>Married</td>\n      <td>House / apartment</td>\n      <td>2.0</td>\n      <td>2.0</td>\n    </tr>\n    <tr>\n      <th>...</th>\n      <td>...</td>\n      <td>...</td>\n      <td>...</td>\n      <td>...</td>\n      <td>...</td>\n      <td>...</td>\n      <td>...</td>\n    </tr>\n    <tr>\n      <th>26452</th>\n      <td>2</td>\n      <td>State servant</td>\n      <td>Secondary / secondary special</td>\n      <td>Married</td>\n      <td>House / apartment</td>\n      <td>4.0</td>\n      <td>1.0</td>\n    </tr>\n    <tr>\n      <th>26453</th>\n      <td>1</td>\n      <td>Working</td>\n      <td>Higher education</td>\n      <td>Separated</td>\n      <td>House / apartment</td>\n      <td>2.0</td>\n      <td>2.0</td>\n    </tr>\n    <tr>\n      <th>26454</th>\n      <td>0</td>\n      <td>Working</td>\n      <td>Secondary / secondary special</td>\n      <td>Civil marriage</td>\n      <td>With parents</td>\n      <td>2.0</td>\n      <td>2.0</td>\n    </tr>\n    <tr>\n      <th>26455</th>\n      <td>0</td>\n      <td>Working</td>\n      <td>Incomplete higher</td>\n      <td>Single / not married</td>\n      <td>House / apartment</td>\n      <td>1.0</td>\n      <td>2.0</td>\n    </tr>\n    <tr>\n      <th>26456</th>\n      <td>0</td>\n      <td>Working</td>\n      <td>Secondary / secondary special</td>\n      <td>Civil marriage</td>\n      <td>House / apartment</td>\n      <td>2.0</td>\n      <td>2.0</td>\n    </tr>\n  </tbody>\n</table>\n<p>26457 rows × 7 columns</p>\n</div>"
     },
     "execution_count": 115,
     "metadata": {},
     "output_type": "execute_result"
    }
   ],
   "source": [
    "# 3. 연속형 변수 처리하기\n",
    "train[g2]"
   ],
   "metadata": {
    "collapsed": false
   }
  },
  {
   "cell_type": "code",
   "execution_count": 116,
   "outputs": [
    {
     "data": {
      "text/plain": "<AxesSubplot:>"
     },
     "execution_count": 116,
     "metadata": {},
     "output_type": "execute_result"
    },
    {
     "data": {
      "text/plain": "<Figure size 640x480 with 1 Axes>",
      "image/png": "[encoded data removed]"
     },
     "metadata": {},
     "output_type": "display_data"
    }
   ],
   "source": [
    "train['child_num'].value_counts(sort=False).plot.bar()"
   ],
   "metadata": {
    "collapsed": false
   }
  },
  {
   "cell_type": "code",
   "execution_count": 117,
   "outputs": [
    {
     "data": {
      "text/plain": "<AxesSubplot:>"
     },
     "execution_count": 117,
     "metadata": {},
     "output_type": "execute_result"
    },
    {
     "data": {
      "text/plain": "<Figure size 640x480 with 1 Axes>",
      "image/png": "[encoded data removed]"
     },
     "metadata": {},
     "output_type": "display_data"
    }
   ],
   "source": [
    "train.loc[train['child_num']>=2, 'child_num'] = 2 # 오른쪽은 칼럼 인덱스 넣어주기\n",
    "test.loc[test['child_num']>=2, 'child_num'] = 2\n",
    "# 2명 이상인 아이들의 수가 적기 때문에 2이상의 나이는 병합 해주기\n",
    "train['child_num'].value_counts(sort=False).plot.bar()"
   ],
   "metadata": {
    "collapsed": false
   }
  },
  {
   "cell_type": "code",
   "execution_count": 118,
   "outputs": [
    {
     "data": {
      "text/plain": "child_num       3\nincome_type     5\nedu_type        5\nfamily_type     5\nhouse_type      6\nfamily_size    10\ncredit          3\ndtype: int64"
     },
     "execution_count": 118,
     "metadata": {},
     "output_type": "execute_result"
    }
   ],
   "source": [
    "train[g2].apply(lambda x : len(x.unique()))"
   ],
   "metadata": {
    "collapsed": false
   }
  },
  {
   "cell_type": "code",
   "execution_count": 119,
   "outputs": [],
   "source": [
    "from sklearn import preprocessing\n",
    "label_encoder = preprocessing.LabelEncoder()\n",
    "train['income_type'] = label_encoder.fit_transform(train['income_type'])\n",
    "test['income_type'] = label_encoder.fit_transform(test['income_type'])\n",
    "\n",
    "train['edu_type']=label_encoder.fit_transform(train['edu_type'])\n",
    "test['edu_type']=label_encoder.transform(test['edu_type'])\n",
    "\n",
    "train['family_type']=label_encoder.fit_transform(train['family_type'])\n",
    "test['family_type']=label_encoder.transform(test['family_type'])\n",
    "\n",
    "train['house_type']=label_encoder.fit_transform(train['house_type'])\n",
    "test['house_type']=label_encoder.transform(test['house_type'])\n",
    "\n",
    "train['income_total']=label_encoder.fit_transform(train['income_total'])\n",
    "test['income_total']=label_encoder.fit_transform(test['income_total'])"
   ],
   "metadata": {
    "collapsed": false
   }
  },
  {
   "cell_type": "code",
   "execution_count": 120,
   "outputs": [
    {
     "data": {
      "text/plain": "       index  income_total  DAYS_BIRTH  DAYS_EMPLOYED  begin_month\n0          0           145      -13899          -4709         -6.0\n1          1           165      -11380          -1540         -5.0\n2          2           214      -19087          -4434        -22.0\n3          3           145      -15088          -2092        -37.0\n4          4           111      -15037          -2105        -26.0\n...      ...           ...         ...            ...          ...\n26452  26452           156      -12079          -1984         -2.0\n26453  26453           133      -15291          -2475        -47.0\n26454  26454           181      -10082          -2015        -25.0\n26455  26455           121      -10145           -107        -59.0\n26456  26456            48      -19569          -1013         -9.0\n\n[26457 rows x 5 columns]",
      "text/html": "<div>\n<style scoped>\n    .dataframe tbody tr th:only-of-type {\n        vertical-align: middle;\n    }\n\n    .dataframe tbody tr th {\n        vertical-align: top;\n    }\n\n    .dataframe thead th {\n        text-align: right;\n    }\n</style>\n<table border=\"1\" class=\"dataframe\">\n  <thead>\n    <tr style=\"text-align: right;\">\n      <th></th>\n      <th>index</th>\n      <th>income_total</th>\n      <th>DAYS_BIRTH</th>\n      <th>DAYS_EMPLOYED</th>\n      <th>begin_month</th>\n    </tr>\n  </thead>\n  <tbody>\n    <tr>\n      <th>0</th>\n      <td>0</td>\n      <td>145</td>\n      <td>-13899</td>\n      <td>-4709</td>\n      <td>-6.0</td>\n    </tr>\n    <tr>\n      <th>1</th>\n      <td>1</td>\n      <td>165</td>\n      <td>-11380</td>\n      <td>-1540</td>\n      <td>-5.0</td>\n    </tr>\n    <tr>\n      <th>2</th>\n      <td>2</td>\n      <td>214</td>\n      <td>-19087</td>\n      <td>-4434</td>\n      <td>-22.0</td>\n    </tr>\n    <tr>\n      <th>3</th>\n      <td>3</td>\n      <td>145</td>\n      <td>-15088</td>\n      <td>-2092</td>\n      <td>-37.0</td>\n    </tr>\n    <tr>\n      <th>4</th>\n      <td>4</td>\n      <td>111</td>\n      <td>-15037</td>\n      <td>-2105</td>\n      <td>-26.0</td>\n    </tr>\n    <tr>\n      <th>...</th>\n      <td>...</td>\n      <td>...</td>\n      <td>...</td>\n      <td>...</td>\n      <td>...</td>\n    </tr>\n    <tr>\n      <th>26452</th>\n      <td>26452</td>\n      <td>156</td>\n      <td>-12079</td>\n      <td>-1984</td>\n      <td>-2.0</td>\n    </tr>\n    <tr>\n      <th>26453</th>\n      <td>26453</td>\n      <td>133</td>\n      <td>-15291</td>\n      <td>-2475</td>\n      <td>-47.0</td>\n    </tr>\n    <tr>\n      <th>26454</th>\n      <td>26454</td>\n      <td>181</td>\n      <td>-10082</td>\n      <td>-2015</td>\n      <td>-25.0</td>\n    </tr>\n    <tr>\n      <th>26455</th>\n      <td>26455</td>\n      <td>121</td>\n      <td>-10145</td>\n      <td>-107</td>\n      <td>-59.0</td>\n    </tr>\n    <tr>\n      <th>26456</th>\n      <td>26456</td>\n      <td>48</td>\n      <td>-19569</td>\n      <td>-1013</td>\n      <td>-9.0</td>\n    </tr>\n  </tbody>\n</table>\n<p>26457 rows × 5 columns</p>\n</div>"
     },
     "execution_count": 120,
     "metadata": {},
     "output_type": "execute_result"
    }
   ],
   "source": [
    "train[g3]"
   ],
   "metadata": {
    "collapsed": false
   }
  },
  {
   "cell_type": "code",
   "execution_count": 121,
   "outputs": [
    {
     "data": {
      "text/plain": "index            26457\nincome_total       249\nDAYS_BIRTH        6621\nDAYS_EMPLOYED     3470\nbegin_month         61\ndtype: int64"
     },
     "execution_count": 121,
     "metadata": {},
     "output_type": "execute_result"
    }
   ],
   "source": [
    "train[g3].apply(lambda x : len(x.unique()))"
   ],
   "metadata": {
    "collapsed": false
   }
  },
  {
   "cell_type": "code",
   "execution_count": 122,
   "outputs": [],
   "source": [
    "import numpy as np\n",
    "counts, bin_dividers = np.histogram(train['income_total'], bins=7) # 각 구간의 개수와 구간들의 분절점\n",
    "train['income_total'] = pd.cut(train['income_total'],bins=bin_dividers, include_lowest=True, labels=np.arange(7))\n",
    "# include_lowest = True -> 구간의 시작점도 포함"
   ],
   "metadata": {
    "collapsed": false
   }
  },
  {
   "cell_type": "code",
   "execution_count": 123,
   "outputs": [
    {
     "data": {
      "text/plain": "0        4\n1        4\n2        6\n3        4\n4        3\n        ..\n26452    4\n26453    3\n26454    5\n26455    3\n26456    1\nName: income_total, Length: 26457, dtype: category\nCategories (7, int64): [0 < 1 < 2 < 3 < 4 < 5 < 6]"
     },
     "execution_count": 123,
     "metadata": {},
     "output_type": "execute_result"
    }
   ],
   "source": [
    "train['income_total']\n",
    "# 요렇게 하면 형태가 category로 나오기 때문에 int로 바꿔줘야함"
   ],
   "metadata": {
    "collapsed": false
   }
  },
  {
   "cell_type": "code",
   "execution_count": 124,
   "outputs": [],
   "source": [
    "train['income_total'] = pd.factorize(pd.cut(train['income_total'],bins=bin_dividers, include_lowest=True, labels=np.arange(7)))[0]\n",
    "test['income_total'] = pd.factorize(pd.cut(test['income_total'],bins=bin_dividers, include_lowest=True, labels=np.arange(7)))[0]"
   ],
   "metadata": {
    "collapsed": false
   }
  },
  {
   "cell_type": "code",
   "execution_count": 125,
   "outputs": [],
   "source": [
    "# 요렇게 구간화 함수 만들기\n",
    "def make_bin(array, n):\n",
    "    array = -array\n",
    "    _, bin_dividers = np.histogram(array, bins=n)\n",
    "    cut_categories = pd.cut(array, bin_dividers, labels=np.arange(n), include_lowest=True)\n",
    "    bined_array = pd.factorize(cut_categories)[0]\n",
    "    return bined_array"
   ],
   "metadata": {
    "collapsed": false
   }
  },
  {
   "cell_type": "code",
   "execution_count": 126,
   "outputs": [],
   "source": [
    "train['DAYS_BIRTH'] = make_bin(train['DAYS_BIRTH'], n=10)\n",
    "train['DAYS_EMPLOYED'] = make_bin(train['DAYS_EMPLOYED'], n=6)\n",
    "train['begin_month'] = make_bin(train['begin_month'], n=4)\n",
    "\n",
    "test['DAYS_BIRTH'] = make_bin(test['DAYS_BIRTH'], n=10)\n",
    "test['DAYS_EMPLOYED'] = make_bin(test['DAYS_EMPLOYED'], n=6)\n",
    "test['begin_month'] = make_bin(test['begin_month'], n=4)"
   ],
   "metadata": {
    "collapsed": false
   }
  },
  {
   "cell_type": "code",
   "execution_count": 127,
   "outputs": [
    {
     "data": {
      "text/plain": "       index  gender  car  reality  child_num  income_total  income_type  \\\n0          0       0    0        0          0             0            0   \n1          1       0    0        1          1             0            0   \n2          2       1    1        1          0             0            4   \n3          3       0    0        1          0             0            0   \n4          4       0    1        1          0             0            2   \n...      ...     ...  ...      ...        ...           ...          ...   \n26452  26452       0    0        0          2             0            2   \n26453  26453       0    0        1          1             0            4   \n26454  26454       0    1        0          0             0            4   \n26455  26455       1    0        1          0             0            4   \n26456  26456       0    0        0          0             0            4   \n\n       edu_type  family_type  house_type  DAYS_BIRTH  DAYS_EMPLOYED  \\\n0             1            1           2           0              0   \n1             4            0           1           1              0   \n2             1            1           1           2              0   \n3             4            1           1           3              0   \n4             1            1           1           3              0   \n...         ...          ...         ...         ...            ...   \n26452         4            1           1           1              0   \n26453         1            2           1           3              0   \n26454         4            0           5           5              0   \n26455         2            3           1           5              0   \n26456         4            0           1           2              0   \n\n       FLAG_MOBIL  work_phone  phone  email  family_size  begin_month  credit  \n0               1           0      0      0          2.0            0     1.0  \n1               1           0      0      1          3.0            0     1.0  \n2               1           0      1      0          2.0            1     2.0  \n3               1           0      1      0          2.0            2     0.0  \n4               1           0      0      0          2.0            1     2.0  \n...           ...         ...    ...    ...          ...          ...     ...  \n26452           1           0      0      0          4.0            0     1.0  \n26453           1           0      0      0          2.0            3     2.0  \n26454           1           0      0      0          2.0            1     2.0  \n26455           1           0      0      0          1.0            3     2.0  \n26456           1           0      0      0          2.0            0     2.0  \n\n[26457 rows x 19 columns]",
      "text/html": "<div>\n<style scoped>\n    .dataframe tbody tr th:only-of-type {\n        vertical-align: middle;\n    }\n\n    .dataframe tbody tr th {\n        vertical-align: top;\n    }\n\n    .dataframe thead th {\n        text-align: right;\n    }\n</style>\n<table border=\"1\" class=\"dataframe\">\n  <thead>\n    <tr style=\"text-align: right;\">\n      <th></th>\n      <th>index</th>\n      <th>gender</th>\n      <th>car</th>\n      <th>reality</th>\n      <th>child_num</th>\n      <th>income_total</th>\n      <th>income_type</th>\n      <th>edu_type</th>\n      <th>family_type</th>\n      <th>house_type</th>\n      <th>DAYS_BIRTH</th>\n      <th>DAYS_EMPLOYED</th>\n      <th>FLAG_MOBIL</th>\n      <th>work_phone</th>\n      <th>phone</th>\n      <th>email</th>\n      <th>family_size</th>\n      <th>begin_month</th>\n      <th>credit</th>\n    </tr>\n  </thead>\n  <tbody>\n    <tr>\n      <th>0</th>\n      <td>0</td>\n      <td>0</td>\n      <td>0</td>\n      <td>0</td>\n      <td>0</td>\n      <td>0</td>\n      <td>0</td>\n      <td>1</td>\n      <td>1</td>\n      <td>2</td>\n      <td>0</td>\n      <td>0</td>\n      <td>1</td>\n      <td>0</td>\n      <td>0</td>\n      <td>0</td>\n      <td>2.0</td>\n      <td>0</td>\n      <td>1.0</td>\n    </tr>\n    <tr>\n      <th>1</th>\n      <td>1</td>\n      <td>0</td>\n      <td>0</td>\n      <td>1</td>\n      <td>1</td>\n      <td>0</td>\n      <td>0</td>\n      <td>4</td>\n      <td>0</td>\n      <td>1</td>\n      <td>1</td>\n      <td>0</td>\n      <td>1</td>\n      <td>0</td>\n      <td>0</td>\n      <td>1</td>\n      <td>3.0</td>\n      <td>0</td>\n      <td>1.0</td>\n    </tr>\n    <tr>\n      <th>2</th>\n      <td>2</td>\n      <td>1</td>\n      <td>1</td>\n      <td>1</td>\n      <td>0</td>\n      <td>0</td>\n      <td>4</td>\n      <td>1</td>\n      <td>1</td>\n      <td>1</td>\n      <td>2</td>\n      <td>0</td>\n      <td>1</td>\n      <td>0</td>\n      <td>1</td>\n      <td>0</td>\n      <td>2.0</td>\n      <td>1</td>\n      <td>2.0</td>\n    </tr>\n    <tr>\n      <th>3</th>\n      <td>3</td>\n      <td>0</td>\n      <td>0</td>\n      <td>1</td>\n      <td>0</td>\n      <td>0</td>\n      <td>0</td>\n      <td>4</td>\n      <td>1</td>\n      <td>1</td>\n      <td>3</td>\n      <td>0</td>\n      <td>1</td>\n      <td>0</td>\n      <td>1</td>\n      <td>0</td>\n      <td>2.0</td>\n      <td>2</td>\n      <td>0.0</td>\n    </tr>\n    <tr>\n      <th>4</th>\n      <td>4</td>\n      <td>0</td>\n      <td>1</td>\n      <td>1</td>\n      <td>0</td>\n      <td>0</td>\n      <td>2</td>\n      <td>1</td>\n      <td>1</td>\n      <td>1</td>\n      <td>3</td>\n      <td>0</td>\n      <td>1</td>\n      <td>0</td>\n      <td>0</td>\n      <td>0</td>\n      <td>2.0</td>\n      <td>1</td>\n      <td>2.0</td>\n    </tr>\n    <tr>\n      <th>...</th>\n      <td>...</td>\n      <td>...</td>\n      <td>...</td>\n      <td>...</td>\n      <td>...</td>\n      <td>...</td>\n      <td>...</td>\n      <td>...</td>\n      <td>...</td>\n      <td>...</td>\n      <td>...</td>\n      <td>...</td>\n      <td>...</td>\n      <td>...</td>\n      <td>...</td>\n      <td>...</td>\n      <td>...</td>\n      <td>...</td>\n      <td>...</td>\n    </tr>\n    <tr>\n      <th>26452</th>\n      <td>26452</td>\n      <td>0</td>\n      <td>0</td>\n      <td>0</td>\n      <td>2</td>\n      <td>0</td>\n      <td>2</td>\n      <td>4</td>\n      <td>1</td>\n      <td>1</td>\n      <td>1</td>\n      <td>0</td>\n      <td>1</td>\n      <td>0</td>\n      <td>0</td>\n      <td>0</td>\n      <td>4.0</td>\n      <td>0</td>\n      <td>1.0</td>\n    </tr>\n    <tr>\n      <th>26453</th>\n      <td>26453</td>\n      <td>0</td>\n      <td>0</td>\n      <td>1</td>\n      <td>1</td>\n      <td>0</td>\n      <td>4</td>\n      <td>1</td>\n      <td>2</td>\n      <td>1</td>\n      <td>3</td>\n      <td>0</td>\n      <td>1</td>\n      <td>0</td>\n      <td>0</td>\n      <td>0</td>\n      <td>2.0</td>\n      <td>3</td>\n      <td>2.0</td>\n    </tr>\n    <tr>\n      <th>26454</th>\n      <td>26454</td>\n      <td>0</td>\n      <td>1</td>\n      <td>0</td>\n      <td>0</td>\n      <td>0</td>\n      <td>4</td>\n      <td>4</td>\n      <td>0</td>\n      <td>5</td>\n      <td>5</td>\n      <td>0</td>\n      <td>1</td>\n      <td>0</td>\n      <td>0</td>\n      <td>0</td>\n      <td>2.0</td>\n      <td>1</td>\n      <td>2.0</td>\n    </tr>\n    <tr>\n      <th>26455</th>\n      <td>26455</td>\n      <td>1</td>\n      <td>0</td>\n      <td>1</td>\n      <td>0</td>\n      <td>0</td>\n      <td>4</td>\n      <td>2</td>\n      <td>3</td>\n      <td>1</td>\n      <td>5</td>\n      <td>0</td>\n      <td>1</td>\n      <td>0</td>\n      <td>0</td>\n      <td>0</td>\n      <td>1.0</td>\n      <td>3</td>\n      <td>2.0</td>\n    </tr>\n    <tr>\n      <th>26456</th>\n      <td>26456</td>\n      <td>0</td>\n      <td>0</td>\n      <td>0</td>\n      <td>0</td>\n      <td>0</td>\n      <td>4</td>\n      <td>4</td>\n      <td>0</td>\n      <td>1</td>\n      <td>2</td>\n      <td>0</td>\n      <td>1</td>\n      <td>0</td>\n      <td>0</td>\n      <td>0</td>\n      <td>2.0</td>\n      <td>0</td>\n      <td>2.0</td>\n    </tr>\n  </tbody>\n</table>\n<p>26457 rows × 19 columns</p>\n</div>"
     },
     "execution_count": 127,
     "metadata": {},
     "output_type": "execute_result"
    }
   ],
   "source": [
    "train"
   ],
   "metadata": {
    "collapsed": false
   }
  },
  {
   "cell_type": "code",
   "execution_count": 128,
   "outputs": [
    {
     "name": "stdout",
     "output_type": "stream",
     "text": [
      "(26457, 18) (26457, 1) (10000, 18)\n"
     ]
    }
   ],
   "source": [
    "train_x = train.drop('credit', axis=1)\n",
    "train_y = train[['credit']]\n",
    "test_x = test\n",
    "print(train_x.shape, train_y.shape, test.shape)"
   ],
   "metadata": {
    "collapsed": false
   }
  },
  {
   "cell_type": "code",
   "execution_count": 144,
   "outputs": [
    {
     "name": "stdout",
     "output_type": "stream",
     "text": [
      "log_loss: 1.0878858663397037\n"
     ]
    }
   ],
   "source": [
    "from sklearn.ensemble import RandomForestClassifier\n",
    "from sklearn.metrics import accuracy_score, log_loss\n",
    "from sklearn.metrics import f1_score\n",
    "# from tensorflow.keras.utils import to_categorical\n",
    "\n",
    "X_train, X_val, y_train, y_val = train_test_split(train_x, train_y,\n",
    "                                                  stratify=train_y, test_size=0.25, random_state=42)\n",
    "clf = RandomForestClassifier()\n",
    "clf.fit(X_train, y_train)\n",
    "y_pred = clf.predict_proba(X_val)\n",
    "\n",
    "print(f\"log_loss: {log_loss(y_val['credit'], y_pred)}\")\n",
    "# 값이 작을수록 잘 예측한 것임"
   ],
   "metadata": {
    "collapsed": false
   }
  }
 ],
 "metadata": {
  "kernelspec": {
   "display_name": "Python 3",
   "language": "python",
   "name": "python3"
  },
  "language_info": {
   "codemirror_mode": {
    "name": "ipython",
    "version": 2
   },
   "file_extension": ".py",
   "mimetype": "text/x-python",
   "name": "python",
   "nbconvert_exporter": "python",
   "pygments_lexer": "ipython2",
   "version": "2.7.6"
  }
 },
 "nbformat": 4,
 "nbformat_minor": 0
}
