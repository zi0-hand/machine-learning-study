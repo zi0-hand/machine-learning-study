{
 "cells": [
  {
   "cell_type": "markdown",
   "source": [
    "# 콘텐츠 기반 필터링 실습 - TMDB 5000 영화 데이터 세트"
   ],
   "metadata": {
    "collapsed": false
   }
  },
  {
   "cell_type": "code",
   "execution_count": 11,
   "outputs": [],
   "source": [
    "import pandas as pd\n",
    "import numpy as np\n",
    "import warnings; warnings.filterwarnings('ignore')\n",
    "\n",
    "movies = pd.read_csv('C:/Users/sgsgk/Documents/machine-learning-example-data/tmdb_5000_movies.csv')"
   ],
   "metadata": {
    "collapsed": false
   }
  },
  {
   "cell_type": "code",
   "execution_count": 12,
   "outputs": [
    {
     "data": {
      "text/plain": "         budget                                             genres  \\\n0     237000000  [{\"id\": 28, \"name\": \"Action\"}, {\"id\": 12, \"nam...   \n1     300000000  [{\"id\": 12, \"name\": \"Adventure\"}, {\"id\": 14, \"...   \n2     245000000  [{\"id\": 28, \"name\": \"Action\"}, {\"id\": 12, \"nam...   \n3     250000000  [{\"id\": 28, \"name\": \"Action\"}, {\"id\": 80, \"nam...   \n4     260000000  [{\"id\": 28, \"name\": \"Action\"}, {\"id\": 12, \"nam...   \n...         ...                                                ...   \n4798     220000  [{\"id\": 28, \"name\": \"Action\"}, {\"id\": 80, \"nam...   \n4799       9000  [{\"id\": 35, \"name\": \"Comedy\"}, {\"id\": 10749, \"...   \n4800          0  [{\"id\": 35, \"name\": \"Comedy\"}, {\"id\": 18, \"nam...   \n4801          0                                                 []   \n4802          0                [{\"id\": 99, \"name\": \"Documentary\"}]   \n\n                                               homepage      id  \\\n0                           http://www.avatarmovie.com/   19995   \n1          http://disney.go.com/disneypictures/pirates/     285   \n2           http://www.sonypictures.com/movies/spectre/  206647   \n3                    http://www.thedarkknightrises.com/   49026   \n4                  http://movies.disney.com/john-carter   49529   \n...                                                 ...     ...   \n4798                                                NaN    9367   \n4799                                                NaN   72766   \n4800  http://www.hallmarkchannel.com/signedsealeddel...  231617   \n4801                        http://shanghaicalling.com/  126186   \n4802                                                NaN   25975   \n\n                                               keywords original_language  \\\n0     [{\"id\": 1463, \"name\": \"culture clash\"}, {\"id\":...                en   \n1     [{\"id\": 270, \"name\": \"ocean\"}, {\"id\": 726, \"na...                en   \n2     [{\"id\": 470, \"name\": \"spy\"}, {\"id\": 818, \"name...                en   \n3     [{\"id\": 849, \"name\": \"dc comics\"}, {\"id\": 853,...                en   \n4     [{\"id\": 818, \"name\": \"based on novel\"}, {\"id\":...                en   \n...                                                 ...               ...   \n4798  [{\"id\": 5616, \"name\": \"united states\\u2013mexi...                es   \n4799                                                 []                en   \n4800  [{\"id\": 248, \"name\": \"date\"}, {\"id\": 699, \"nam...                en   \n4801                                                 []                en   \n4802  [{\"id\": 1523, \"name\": \"obsession\"}, {\"id\": 224...                en   \n\n                                original_title  \\\n0                                       Avatar   \n1     Pirates of the Caribbean: At World's End   \n2                                      Spectre   \n3                        The Dark Knight Rises   \n4                                  John Carter   \n...                                        ...   \n4798                               El Mariachi   \n4799                                 Newlyweds   \n4800                 Signed, Sealed, Delivered   \n4801                          Shanghai Calling   \n4802                         My Date with Drew   \n\n                                               overview  popularity  \\\n0     In the 22nd century, a paraplegic Marine is di...  150.437577   \n1     Captain Barbossa, long believed to be dead, ha...  139.082615   \n2     A cryptic message from Bond’s past sends him o...  107.376788   \n3     Following the death of District Attorney Harve...  112.312950   \n4     John Carter is a war-weary, former military ca...   43.926995   \n...                                                 ...         ...   \n4798  El Mariachi just wants to play his guitar and ...   14.269792   \n4799  A newlywed couple's honeymoon is upended by th...    0.642552   \n4800  \"Signed, Sealed, Delivered\" introduces a dedic...    1.444476   \n4801  When ambitious New York attorney Sam is sent t...    0.857008   \n4802  Ever since the second grade when he first saw ...    1.929883   \n\n                                   production_companies  \\\n0     [{\"name\": \"Ingenious Film Partners\", \"id\": 289...   \n1     [{\"name\": \"Walt Disney Pictures\", \"id\": 2}, {\"...   \n2     [{\"name\": \"Columbia Pictures\", \"id\": 5}, {\"nam...   \n3     [{\"name\": \"Legendary Pictures\", \"id\": 923}, {\"...   \n4           [{\"name\": \"Walt Disney Pictures\", \"id\": 2}]   \n...                                                 ...   \n4798           [{\"name\": \"Columbia Pictures\", \"id\": 5}]   \n4799                                                 []   \n4800  [{\"name\": \"Front Street Pictures\", \"id\": 3958}...   \n4801                                                 []   \n4802  [{\"name\": \"rusty bear entertainment\", \"id\": 87...   \n\n                                   production_countries release_date  \\\n0     [{\"iso_3166_1\": \"US\", \"name\": \"United States o...   2009-12-10   \n1     [{\"iso_3166_1\": \"US\", \"name\": \"United States o...   2007-05-19   \n2     [{\"iso_3166_1\": \"GB\", \"name\": \"United Kingdom\"...   2015-10-26   \n3     [{\"iso_3166_1\": \"US\", \"name\": \"United States o...   2012-07-16   \n4     [{\"iso_3166_1\": \"US\", \"name\": \"United States o...   2012-03-07   \n...                                                 ...          ...   \n4798  [{\"iso_3166_1\": \"MX\", \"name\": \"Mexico\"}, {\"iso...   1992-09-04   \n4799                                                 []   2011-12-26   \n4800  [{\"iso_3166_1\": \"US\", \"name\": \"United States o...   2013-10-13   \n4801  [{\"iso_3166_1\": \"US\", \"name\": \"United States o...   2012-05-03   \n4802  [{\"iso_3166_1\": \"US\", \"name\": \"United States o...   2005-08-05   \n\n         revenue  runtime                                   spoken_languages  \\\n0     2787965087    162.0  [{\"iso_639_1\": \"en\", \"name\": \"English\"}, {\"iso...   \n1      961000000    169.0           [{\"iso_639_1\": \"en\", \"name\": \"English\"}]   \n2      880674609    148.0  [{\"iso_639_1\": \"fr\", \"name\": \"Fran\\u00e7ais\"},...   \n3     1084939099    165.0           [{\"iso_639_1\": \"en\", \"name\": \"English\"}]   \n4      284139100    132.0           [{\"iso_639_1\": \"en\", \"name\": \"English\"}]   \n...          ...      ...                                                ...   \n4798     2040920     81.0      [{\"iso_639_1\": \"es\", \"name\": \"Espa\\u00f1ol\"}]   \n4799           0     85.0                                                 []   \n4800           0    120.0           [{\"iso_639_1\": \"en\", \"name\": \"English\"}]   \n4801           0     98.0           [{\"iso_639_1\": \"en\", \"name\": \"English\"}]   \n4802           0     90.0           [{\"iso_639_1\": \"en\", \"name\": \"English\"}]   \n\n        status                                            tagline  \\\n0     Released                        Enter the World of Pandora.   \n1     Released     At the end of the world, the adventure begins.   \n2     Released                              A Plan No One Escapes   \n3     Released                                    The Legend Ends   \n4     Released               Lost in our world, found in another.   \n...        ...                                                ...   \n4798  Released  He didn't come looking for trouble, but troubl...   \n4799  Released  A newlywed couple's honeymoon is upended by th...   \n4800  Released                                                NaN   \n4801  Released                           A New Yorker in Shanghai   \n4802  Released                                                NaN   \n\n                                         title  vote_average  vote_count  \n0                                       Avatar           7.2       11800  \n1     Pirates of the Caribbean: At World's End           6.9        4500  \n2                                      Spectre           6.3        4466  \n3                        The Dark Knight Rises           7.6        9106  \n4                                  John Carter           6.1        2124  \n...                                        ...           ...         ...  \n4798                               El Mariachi           6.6         238  \n4799                                 Newlyweds           5.9           5  \n4800                 Signed, Sealed, Delivered           7.0           6  \n4801                          Shanghai Calling           5.7           7  \n4802                         My Date with Drew           6.3          16  \n\n[4803 rows x 20 columns]",
      "text/html": "<div>\n<style scoped>\n    .dataframe tbody tr th:only-of-type {\n        vertical-align: middle;\n    }\n\n    .dataframe tbody tr th {\n        vertical-align: top;\n    }\n\n    .dataframe thead th {\n        text-align: right;\n    }\n</style>\n<table border=\"1\" class=\"dataframe\">\n  <thead>\n    <tr style=\"text-align: right;\">\n      <th></th>\n      <th>budget</th>\n      <th>genres</th>\n      <th>homepage</th>\n      <th>id</th>\n      <th>keywords</th>\n      <th>original_language</th>\n      <th>original_title</th>\n      <th>overview</th>\n      <th>popularity</th>\n      <th>production_companies</th>\n      <th>production_countries</th>\n      <th>release_date</th>\n      <th>revenue</th>\n      <th>runtime</th>\n      <th>spoken_languages</th>\n      <th>status</th>\n      <th>tagline</th>\n      <th>title</th>\n      <th>vote_average</th>\n      <th>vote_count</th>\n    </tr>\n  </thead>\n  <tbody>\n    <tr>\n      <th>0</th>\n      <td>237000000</td>\n      <td>[{\"id\": 28, \"name\": \"Action\"}, {\"id\": 12, \"nam...</td>\n      <td>http://www.avatarmovie.com/</td>\n      <td>19995</td>\n      <td>[{\"id\": 1463, \"name\": \"culture clash\"}, {\"id\":...</td>\n      <td>en</td>\n      <td>Avatar</td>\n      <td>In the 22nd century, a paraplegic Marine is di...</td>\n      <td>150.437577</td>\n      <td>[{\"name\": \"Ingenious Film Partners\", \"id\": 289...</td>\n      <td>[{\"iso_3166_1\": \"US\", \"name\": \"United States o...</td>\n      <td>2009-12-10</td>\n      <td>2787965087</td>\n      <td>162.0</td>\n      <td>[{\"iso_639_1\": \"en\", \"name\": \"English\"}, {\"iso...</td>\n      <td>Released</td>\n      <td>Enter the World of Pandora.</td>\n      <td>Avatar</td>\n      <td>7.2</td>\n      <td>11800</td>\n    </tr>\n    <tr>\n      <th>1</th>\n      <td>300000000</td>\n      <td>[{\"id\": 12, \"name\": \"Adventure\"}, {\"id\": 14, \"...</td>\n      <td>http://disney.go.com/disneypictures/pirates/</td>\n      <td>285</td>\n      <td>[{\"id\": 270, \"name\": \"ocean\"}, {\"id\": 726, \"na...</td>\n      <td>en</td>\n      <td>Pirates of the Caribbean: At World's End</td>\n      <td>Captain Barbossa, long believed to be dead, ha...</td>\n      <td>139.082615</td>\n      <td>[{\"name\": \"Walt Disney Pictures\", \"id\": 2}, {\"...</td>\n      <td>[{\"iso_3166_1\": \"US\", \"name\": \"United States o...</td>\n      <td>2007-05-19</td>\n      <td>961000000</td>\n      <td>169.0</td>\n      <td>[{\"iso_639_1\": \"en\", \"name\": \"English\"}]</td>\n      <td>Released</td>\n      <td>At the end of the world, the adventure begins.</td>\n      <td>Pirates of the Caribbean: At World's End</td>\n      <td>6.9</td>\n      <td>4500</td>\n    </tr>\n    <tr>\n      <th>2</th>\n      <td>245000000</td>\n      <td>[{\"id\": 28, \"name\": \"Action\"}, {\"id\": 12, \"nam...</td>\n      <td>http://www.sonypictures.com/movies/spectre/</td>\n      <td>206647</td>\n      <td>[{\"id\": 470, \"name\": \"spy\"}, {\"id\": 818, \"name...</td>\n      <td>en</td>\n      <td>Spectre</td>\n      <td>A cryptic message from Bond’s past sends him o...</td>\n      <td>107.376788</td>\n      <td>[{\"name\": \"Columbia Pictures\", \"id\": 5}, {\"nam...</td>\n      <td>[{\"iso_3166_1\": \"GB\", \"name\": \"United Kingdom\"...</td>\n      <td>2015-10-26</td>\n      <td>880674609</td>\n      <td>148.0</td>\n      <td>[{\"iso_639_1\": \"fr\", \"name\": \"Fran\\u00e7ais\"},...</td>\n      <td>Released</td>\n      <td>A Plan No One Escapes</td>\n      <td>Spectre</td>\n      <td>6.3</td>\n      <td>4466</td>\n    </tr>\n    <tr>\n      <th>3</th>\n      <td>250000000</td>\n      <td>[{\"id\": 28, \"name\": \"Action\"}, {\"id\": 80, \"nam...</td>\n      <td>http://www.thedarkknightrises.com/</td>\n      <td>49026</td>\n      <td>[{\"id\": 849, \"name\": \"dc comics\"}, {\"id\": 853,...</td>\n      <td>en</td>\n      <td>The Dark Knight Rises</td>\n      <td>Following the death of District Attorney Harve...</td>\n      <td>112.312950</td>\n      <td>[{\"name\": \"Legendary Pictures\", \"id\": 923}, {\"...</td>\n      <td>[{\"iso_3166_1\": \"US\", \"name\": \"United States o...</td>\n      <td>2012-07-16</td>\n      <td>1084939099</td>\n      <td>165.0</td>\n      <td>[{\"iso_639_1\": \"en\", \"name\": \"English\"}]</td>\n      <td>Released</td>\n      <td>The Legend Ends</td>\n      <td>The Dark Knight Rises</td>\n      <td>7.6</td>\n      <td>9106</td>\n    </tr>\n    <tr>\n      <th>4</th>\n      <td>260000000</td>\n      <td>[{\"id\": 28, \"name\": \"Action\"}, {\"id\": 12, \"nam...</td>\n      <td>http://movies.disney.com/john-carter</td>\n      <td>49529</td>\n      <td>[{\"id\": 818, \"name\": \"based on novel\"}, {\"id\":...</td>\n      <td>en</td>\n      <td>John Carter</td>\n      <td>John Carter is a war-weary, former military ca...</td>\n      <td>43.926995</td>\n      <td>[{\"name\": \"Walt Disney Pictures\", \"id\": 2}]</td>\n      <td>[{\"iso_3166_1\": \"US\", \"name\": \"United States o...</td>\n      <td>2012-03-07</td>\n      <td>284139100</td>\n      <td>132.0</td>\n      <td>[{\"iso_639_1\": \"en\", \"name\": \"English\"}]</td>\n      <td>Released</td>\n      <td>Lost in our world, found in another.</td>\n      <td>John Carter</td>\n      <td>6.1</td>\n      <td>2124</td>\n    </tr>\n    <tr>\n      <th>...</th>\n      <td>...</td>\n      <td>...</td>\n      <td>...</td>\n      <td>...</td>\n      <td>...</td>\n      <td>...</td>\n      <td>...</td>\n      <td>...</td>\n      <td>...</td>\n      <td>...</td>\n      <td>...</td>\n      <td>...</td>\n      <td>...</td>\n      <td>...</td>\n      <td>...</td>\n      <td>...</td>\n      <td>...</td>\n      <td>...</td>\n      <td>...</td>\n      <td>...</td>\n    </tr>\n    <tr>\n      <th>4798</th>\n      <td>220000</td>\n      <td>[{\"id\": 28, \"name\": \"Action\"}, {\"id\": 80, \"nam...</td>\n      <td>NaN</td>\n      <td>9367</td>\n      <td>[{\"id\": 5616, \"name\": \"united states\\u2013mexi...</td>\n      <td>es</td>\n      <td>El Mariachi</td>\n      <td>El Mariachi just wants to play his guitar and ...</td>\n      <td>14.269792</td>\n      <td>[{\"name\": \"Columbia Pictures\", \"id\": 5}]</td>\n      <td>[{\"iso_3166_1\": \"MX\", \"name\": \"Mexico\"}, {\"iso...</td>\n      <td>1992-09-04</td>\n      <td>2040920</td>\n      <td>81.0</td>\n      <td>[{\"iso_639_1\": \"es\", \"name\": \"Espa\\u00f1ol\"}]</td>\n      <td>Released</td>\n      <td>He didn't come looking for trouble, but troubl...</td>\n      <td>El Mariachi</td>\n      <td>6.6</td>\n      <td>238</td>\n    </tr>\n    <tr>\n      <th>4799</th>\n      <td>9000</td>\n      <td>[{\"id\": 35, \"name\": \"Comedy\"}, {\"id\": 10749, \"...</td>\n      <td>NaN</td>\n      <td>72766</td>\n      <td>[]</td>\n      <td>en</td>\n      <td>Newlyweds</td>\n      <td>A newlywed couple's honeymoon is upended by th...</td>\n      <td>0.642552</td>\n      <td>[]</td>\n      <td>[]</td>\n      <td>2011-12-26</td>\n      <td>0</td>\n      <td>85.0</td>\n      <td>[]</td>\n      <td>Released</td>\n      <td>A newlywed couple's honeymoon is upended by th...</td>\n      <td>Newlyweds</td>\n      <td>5.9</td>\n      <td>5</td>\n    </tr>\n    <tr>\n      <th>4800</th>\n      <td>0</td>\n      <td>[{\"id\": 35, \"name\": \"Comedy\"}, {\"id\": 18, \"nam...</td>\n      <td>http://www.hallmarkchannel.com/signedsealeddel...</td>\n      <td>231617</td>\n      <td>[{\"id\": 248, \"name\": \"date\"}, {\"id\": 699, \"nam...</td>\n      <td>en</td>\n      <td>Signed, Sealed, Delivered</td>\n      <td>\"Signed, Sealed, Delivered\" introduces a dedic...</td>\n      <td>1.444476</td>\n      <td>[{\"name\": \"Front Street Pictures\", \"id\": 3958}...</td>\n      <td>[{\"iso_3166_1\": \"US\", \"name\": \"United States o...</td>\n      <td>2013-10-13</td>\n      <td>0</td>\n      <td>120.0</td>\n      <td>[{\"iso_639_1\": \"en\", \"name\": \"English\"}]</td>\n      <td>Released</td>\n      <td>NaN</td>\n      <td>Signed, Sealed, Delivered</td>\n      <td>7.0</td>\n      <td>6</td>\n    </tr>\n    <tr>\n      <th>4801</th>\n      <td>0</td>\n      <td>[]</td>\n      <td>http://shanghaicalling.com/</td>\n      <td>126186</td>\n      <td>[]</td>\n      <td>en</td>\n      <td>Shanghai Calling</td>\n      <td>When ambitious New York attorney Sam is sent t...</td>\n      <td>0.857008</td>\n      <td>[]</td>\n      <td>[{\"iso_3166_1\": \"US\", \"name\": \"United States o...</td>\n      <td>2012-05-03</td>\n      <td>0</td>\n      <td>98.0</td>\n      <td>[{\"iso_639_1\": \"en\", \"name\": \"English\"}]</td>\n      <td>Released</td>\n      <td>A New Yorker in Shanghai</td>\n      <td>Shanghai Calling</td>\n      <td>5.7</td>\n      <td>7</td>\n    </tr>\n    <tr>\n      <th>4802</th>\n      <td>0</td>\n      <td>[{\"id\": 99, \"name\": \"Documentary\"}]</td>\n      <td>NaN</td>\n      <td>25975</td>\n      <td>[{\"id\": 1523, \"name\": \"obsession\"}, {\"id\": 224...</td>\n      <td>en</td>\n      <td>My Date with Drew</td>\n      <td>Ever since the second grade when he first saw ...</td>\n      <td>1.929883</td>\n      <td>[{\"name\": \"rusty bear entertainment\", \"id\": 87...</td>\n      <td>[{\"iso_3166_1\": \"US\", \"name\": \"United States o...</td>\n      <td>2005-08-05</td>\n      <td>0</td>\n      <td>90.0</td>\n      <td>[{\"iso_639_1\": \"en\", \"name\": \"English\"}]</td>\n      <td>Released</td>\n      <td>NaN</td>\n      <td>My Date with Drew</td>\n      <td>6.3</td>\n      <td>16</td>\n    </tr>\n  </tbody>\n</table>\n<p>4803 rows × 20 columns</p>\n</div>"
     },
     "execution_count": 12,
     "metadata": {},
     "output_type": "execute_result"
    }
   ],
   "source": [
    "movies"
   ],
   "metadata": {
    "collapsed": false
   }
  },
  {
   "cell_type": "code",
   "execution_count": 13,
   "outputs": [
    {
     "data": {
      "text/plain": "          id                                     title  \\\n0      19995                                    Avatar   \n1        285  Pirates of the Caribbean: At World's End   \n2     206647                                   Spectre   \n3      49026                     The Dark Knight Rises   \n4      49529                               John Carter   \n...      ...                                       ...   \n4798    9367                               El Mariachi   \n4799   72766                                 Newlyweds   \n4800  231617                 Signed, Sealed, Delivered   \n4801  126186                          Shanghai Calling   \n4802   25975                         My Date with Drew   \n\n                                                 genres  vote_average  \\\n0     [{\"id\": 28, \"name\": \"Action\"}, {\"id\": 12, \"nam...           7.2   \n1     [{\"id\": 12, \"name\": \"Adventure\"}, {\"id\": 14, \"...           6.9   \n2     [{\"id\": 28, \"name\": \"Action\"}, {\"id\": 12, \"nam...           6.3   \n3     [{\"id\": 28, \"name\": \"Action\"}, {\"id\": 80, \"nam...           7.6   \n4     [{\"id\": 28, \"name\": \"Action\"}, {\"id\": 12, \"nam...           6.1   \n...                                                 ...           ...   \n4798  [{\"id\": 28, \"name\": \"Action\"}, {\"id\": 80, \"nam...           6.6   \n4799  [{\"id\": 35, \"name\": \"Comedy\"}, {\"id\": 10749, \"...           5.9   \n4800  [{\"id\": 35, \"name\": \"Comedy\"}, {\"id\": 18, \"nam...           7.0   \n4801                                                 []           5.7   \n4802                [{\"id\": 99, \"name\": \"Documentary\"}]           6.3   \n\n      vote_count  popularity  \\\n0          11800  150.437577   \n1           4500  139.082615   \n2           4466  107.376788   \n3           9106  112.312950   \n4           2124   43.926995   \n...          ...         ...   \n4798         238   14.269792   \n4799           5    0.642552   \n4800           6    1.444476   \n4801           7    0.857008   \n4802          16    1.929883   \n\n                                               keywords  \\\n0     [{\"id\": 1463, \"name\": \"culture clash\"}, {\"id\":...   \n1     [{\"id\": 270, \"name\": \"ocean\"}, {\"id\": 726, \"na...   \n2     [{\"id\": 470, \"name\": \"spy\"}, {\"id\": 818, \"name...   \n3     [{\"id\": 849, \"name\": \"dc comics\"}, {\"id\": 853,...   \n4     [{\"id\": 818, \"name\": \"based on novel\"}, {\"id\":...   \n...                                                 ...   \n4798  [{\"id\": 5616, \"name\": \"united states\\u2013mexi...   \n4799                                                 []   \n4800  [{\"id\": 248, \"name\": \"date\"}, {\"id\": 699, \"nam...   \n4801                                                 []   \n4802  [{\"id\": 1523, \"name\": \"obsession\"}, {\"id\": 224...   \n\n                                               overview  \n0     In the 22nd century, a paraplegic Marine is di...  \n1     Captain Barbossa, long believed to be dead, ha...  \n2     A cryptic message from Bond’s past sends him o...  \n3     Following the death of District Attorney Harve...  \n4     John Carter is a war-weary, former military ca...  \n...                                                 ...  \n4798  El Mariachi just wants to play his guitar and ...  \n4799  A newlywed couple's honeymoon is upended by th...  \n4800  \"Signed, Sealed, Delivered\" introduces a dedic...  \n4801  When ambitious New York attorney Sam is sent t...  \n4802  Ever since the second grade when he first saw ...  \n\n[4803 rows x 8 columns]",
      "text/html": "<div>\n<style scoped>\n    .dataframe tbody tr th:only-of-type {\n        vertical-align: middle;\n    }\n\n    .dataframe tbody tr th {\n        vertical-align: top;\n    }\n\n    .dataframe thead th {\n        text-align: right;\n    }\n</style>\n<table border=\"1\" class=\"dataframe\">\n  <thead>\n    <tr style=\"text-align: right;\">\n      <th></th>\n      <th>id</th>\n      <th>title</th>\n      <th>genres</th>\n      <th>vote_average</th>\n      <th>vote_count</th>\n      <th>popularity</th>\n      <th>keywords</th>\n      <th>overview</th>\n    </tr>\n  </thead>\n  <tbody>\n    <tr>\n      <th>0</th>\n      <td>19995</td>\n      <td>Avatar</td>\n      <td>[{\"id\": 28, \"name\": \"Action\"}, {\"id\": 12, \"nam...</td>\n      <td>7.2</td>\n      <td>11800</td>\n      <td>150.437577</td>\n      <td>[{\"id\": 1463, \"name\": \"culture clash\"}, {\"id\":...</td>\n      <td>In the 22nd century, a paraplegic Marine is di...</td>\n    </tr>\n    <tr>\n      <th>1</th>\n      <td>285</td>\n      <td>Pirates of the Caribbean: At World's End</td>\n      <td>[{\"id\": 12, \"name\": \"Adventure\"}, {\"id\": 14, \"...</td>\n      <td>6.9</td>\n      <td>4500</td>\n      <td>139.082615</td>\n      <td>[{\"id\": 270, \"name\": \"ocean\"}, {\"id\": 726, \"na...</td>\n      <td>Captain Barbossa, long believed to be dead, ha...</td>\n    </tr>\n    <tr>\n      <th>2</th>\n      <td>206647</td>\n      <td>Spectre</td>\n      <td>[{\"id\": 28, \"name\": \"Action\"}, {\"id\": 12, \"nam...</td>\n      <td>6.3</td>\n      <td>4466</td>\n      <td>107.376788</td>\n      <td>[{\"id\": 470, \"name\": \"spy\"}, {\"id\": 818, \"name...</td>\n      <td>A cryptic message from Bond’s past sends him o...</td>\n    </tr>\n    <tr>\n      <th>3</th>\n      <td>49026</td>\n      <td>The Dark Knight Rises</td>\n      <td>[{\"id\": 28, \"name\": \"Action\"}, {\"id\": 80, \"nam...</td>\n      <td>7.6</td>\n      <td>9106</td>\n      <td>112.312950</td>\n      <td>[{\"id\": 849, \"name\": \"dc comics\"}, {\"id\": 853,...</td>\n      <td>Following the death of District Attorney Harve...</td>\n    </tr>\n    <tr>\n      <th>4</th>\n      <td>49529</td>\n      <td>John Carter</td>\n      <td>[{\"id\": 28, \"name\": \"Action\"}, {\"id\": 12, \"nam...</td>\n      <td>6.1</td>\n      <td>2124</td>\n      <td>43.926995</td>\n      <td>[{\"id\": 818, \"name\": \"based on novel\"}, {\"id\":...</td>\n      <td>John Carter is a war-weary, former military ca...</td>\n    </tr>\n    <tr>\n      <th>...</th>\n      <td>...</td>\n      <td>...</td>\n      <td>...</td>\n      <td>...</td>\n      <td>...</td>\n      <td>...</td>\n      <td>...</td>\n      <td>...</td>\n    </tr>\n    <tr>\n      <th>4798</th>\n      <td>9367</td>\n      <td>El Mariachi</td>\n      <td>[{\"id\": 28, \"name\": \"Action\"}, {\"id\": 80, \"nam...</td>\n      <td>6.6</td>\n      <td>238</td>\n      <td>14.269792</td>\n      <td>[{\"id\": 5616, \"name\": \"united states\\u2013mexi...</td>\n      <td>El Mariachi just wants to play his guitar and ...</td>\n    </tr>\n    <tr>\n      <th>4799</th>\n      <td>72766</td>\n      <td>Newlyweds</td>\n      <td>[{\"id\": 35, \"name\": \"Comedy\"}, {\"id\": 10749, \"...</td>\n      <td>5.9</td>\n      <td>5</td>\n      <td>0.642552</td>\n      <td>[]</td>\n      <td>A newlywed couple's honeymoon is upended by th...</td>\n    </tr>\n    <tr>\n      <th>4800</th>\n      <td>231617</td>\n      <td>Signed, Sealed, Delivered</td>\n      <td>[{\"id\": 35, \"name\": \"Comedy\"}, {\"id\": 18, \"nam...</td>\n      <td>7.0</td>\n      <td>6</td>\n      <td>1.444476</td>\n      <td>[{\"id\": 248, \"name\": \"date\"}, {\"id\": 699, \"nam...</td>\n      <td>\"Signed, Sealed, Delivered\" introduces a dedic...</td>\n    </tr>\n    <tr>\n      <th>4801</th>\n      <td>126186</td>\n      <td>Shanghai Calling</td>\n      <td>[]</td>\n      <td>5.7</td>\n      <td>7</td>\n      <td>0.857008</td>\n      <td>[]</td>\n      <td>When ambitious New York attorney Sam is sent t...</td>\n    </tr>\n    <tr>\n      <th>4802</th>\n      <td>25975</td>\n      <td>My Date with Drew</td>\n      <td>[{\"id\": 99, \"name\": \"Documentary\"}]</td>\n      <td>6.3</td>\n      <td>16</td>\n      <td>1.929883</td>\n      <td>[{\"id\": 1523, \"name\": \"obsession\"}, {\"id\": 224...</td>\n      <td>Ever since the second grade when he first saw ...</td>\n    </tr>\n  </tbody>\n</table>\n<p>4803 rows × 8 columns</p>\n</div>"
     },
     "execution_count": 13,
     "metadata": {},
     "output_type": "execute_result"
    }
   ],
   "source": [
    "movies_df = movies[['id','title','genres','vote_average','vote_count','popularity','keywords','overview']]\n",
    "movies_df"
   ],
   "metadata": {
    "collapsed": false
   }
  },
  {
   "cell_type": "code",
   "execution_count": 14,
   "outputs": [],
   "source": [
    "from ast import literal_eval\n",
    "movies_df['genres'] = movies_df['genres'].apply(literal_eval)\n",
    "movies_df['keywords'] = movies_df['keywords'].apply(literal_eval)"
   ],
   "metadata": {
    "collapsed": false
   }
  },
  {
   "cell_type": "code",
   "execution_count": 15,
   "outputs": [
    {
     "data": {
      "text/plain": "                                          genres  \\\n0  [Action, Adventure, Fantasy, Science Fiction]   \n\n                                            keywords  \n0  [culture clash, future, space war, space colon...  ",
      "text/html": "<div>\n<style scoped>\n    .dataframe tbody tr th:only-of-type {\n        vertical-align: middle;\n    }\n\n    .dataframe tbody tr th {\n        vertical-align: top;\n    }\n\n    .dataframe thead th {\n        text-align: right;\n    }\n</style>\n<table border=\"1\" class=\"dataframe\">\n  <thead>\n    <tr style=\"text-align: right;\">\n      <th></th>\n      <th>genres</th>\n      <th>keywords</th>\n    </tr>\n  </thead>\n  <tbody>\n    <tr>\n      <th>0</th>\n      <td>[Action, Adventure, Fantasy, Science Fiction]</td>\n      <td>[culture clash, future, space war, space colon...</td>\n    </tr>\n  </tbody>\n</table>\n</div>"
     },
     "execution_count": 15,
     "metadata": {},
     "output_type": "execute_result"
    }
   ],
   "source": [
    "movies_df['genres'] = movies_df['genres'].apply(lambda x : [y['name'] for y in x])\n",
    "movies_df['keywords'] = movies_df['keywords'].apply(lambda x : [y['name'] for y in x])\n",
    "movies_df[['genres','keywords']][:1]"
   ],
   "metadata": {
    "collapsed": false
   }
  },
  {
   "cell_type": "code",
   "execution_count": 17,
   "outputs": [],
   "source": [
    "from sklearn.feature_extraction.text import CountVectorizer\n",
    "\n",
    "movies_df['genres_literal'] = movies_df['genres'].apply(lambda x : (' ').join(x))"
   ],
   "metadata": {
    "collapsed": false
   }
  },
  {
   "cell_type": "code",
   "execution_count": 21,
   "outputs": [],
   "source": [
    "count_vect = CountVectorizer(min_df=0, ngram_range=(1,2))\n",
    "genre_mat = count_vect.fit_transform(movies_df['genres_literal'])"
   ],
   "metadata": {
    "collapsed": false
   }
  },
  {
   "cell_type": "code",
   "execution_count": 25,
   "outputs": [
    {
     "data": {
      "text/plain": "          id                                     title  \\\n0      19995                                    Avatar   \n1        285  Pirates of the Caribbean: At World's End   \n2     206647                                   Spectre   \n3      49026                     The Dark Knight Rises   \n4      49529                               John Carter   \n...      ...                                       ...   \n4798    9367                               El Mariachi   \n4799   72766                                 Newlyweds   \n4800  231617                 Signed, Sealed, Delivered   \n4801  126186                          Shanghai Calling   \n4802   25975                         My Date with Drew   \n\n                                             genres  vote_average  vote_count  \\\n0     [Action, Adventure, Fantasy, Science Fiction]           7.2       11800   \n1                      [Adventure, Fantasy, Action]           6.9        4500   \n2                        [Action, Adventure, Crime]           6.3        4466   \n3                  [Action, Crime, Drama, Thriller]           7.6        9106   \n4              [Action, Adventure, Science Fiction]           6.1        2124   \n...                                             ...           ...         ...   \n4798                      [Action, Crime, Thriller]           6.6         238   \n4799                              [Comedy, Romance]           5.9           5   \n4800             [Comedy, Drama, Romance, TV Movie]           7.0           6   \n4801                                             []           5.7           7   \n4802                                  [Documentary]           6.3          16   \n\n      popularity                                           keywords  \\\n0     150.437577  [culture clash, future, space war, space colon...   \n1     139.082615  [ocean, drug abuse, exotic island, east india ...   \n2     107.376788  [spy, based on novel, secret agent, sequel, mi...   \n3     112.312950  [dc comics, crime fighter, terrorist, secret i...   \n4      43.926995  [based on novel, mars, medallion, space travel...   \n...          ...                                                ...   \n4798   14.269792  [united states–mexico barrier, legs, arms, pap...   \n4799    0.642552                                                 []   \n4800    1.444476  [date, love at first sight, narration, investi...   \n4801    0.857008                                                 []   \n4802    1.929883          [obsession, camcorder, crush, dream girl]   \n\n                                               overview  \\\n0     In the 22nd century, a paraplegic Marine is di...   \n1     Captain Barbossa, long believed to be dead, ha...   \n2     A cryptic message from Bond’s past sends him o...   \n3     Following the death of District Attorney Harve...   \n4     John Carter is a war-weary, former military ca...   \n...                                                 ...   \n4798  El Mariachi just wants to play his guitar and ...   \n4799  A newlywed couple's honeymoon is upended by th...   \n4800  \"Signed, Sealed, Delivered\" introduces a dedic...   \n4801  When ambitious New York attorney Sam is sent t...   \n4802  Ever since the second grade when he first saw ...   \n\n                                genres_literal  \n0     Action Adventure Fantasy Science Fiction  \n1                     Adventure Fantasy Action  \n2                       Action Adventure Crime  \n3                  Action Crime Drama Thriller  \n4             Action Adventure Science Fiction  \n...                                        ...  \n4798                     Action Crime Thriller  \n4799                            Comedy Romance  \n4800             Comedy Drama Romance TV Movie  \n4801                                            \n4802                               Documentary  \n\n[4803 rows x 9 columns]",
      "text/html": "<div>\n<style scoped>\n    .dataframe tbody tr th:only-of-type {\n        vertical-align: middle;\n    }\n\n    .dataframe tbody tr th {\n        vertical-align: top;\n    }\n\n    .dataframe thead th {\n        text-align: right;\n    }\n</style>\n<table border=\"1\" class=\"dataframe\">\n  <thead>\n    <tr style=\"text-align: right;\">\n      <th></th>\n      <th>id</th>\n      <th>title</th>\n      <th>genres</th>\n      <th>vote_average</th>\n      <th>vote_count</th>\n      <th>popularity</th>\n      <th>keywords</th>\n      <th>overview</th>\n      <th>genres_literal</th>\n    </tr>\n  </thead>\n  <tbody>\n    <tr>\n      <th>0</th>\n      <td>19995</td>\n      <td>Avatar</td>\n      <td>[Action, Adventure, Fantasy, Science Fiction]</td>\n      <td>7.2</td>\n      <td>11800</td>\n      <td>150.437577</td>\n      <td>[culture clash, future, space war, space colon...</td>\n      <td>In the 22nd century, a paraplegic Marine is di...</td>\n      <td>Action Adventure Fantasy Science Fiction</td>\n    </tr>\n    <tr>\n      <th>1</th>\n      <td>285</td>\n      <td>Pirates of the Caribbean: At World's End</td>\n      <td>[Adventure, Fantasy, Action]</td>\n      <td>6.9</td>\n      <td>4500</td>\n      <td>139.082615</td>\n      <td>[ocean, drug abuse, exotic island, east india ...</td>\n      <td>Captain Barbossa, long believed to be dead, ha...</td>\n      <td>Adventure Fantasy Action</td>\n    </tr>\n    <tr>\n      <th>2</th>\n      <td>206647</td>\n      <td>Spectre</td>\n      <td>[Action, Adventure, Crime]</td>\n      <td>6.3</td>\n      <td>4466</td>\n      <td>107.376788</td>\n      <td>[spy, based on novel, secret agent, sequel, mi...</td>\n      <td>A cryptic message from Bond’s past sends him o...</td>\n      <td>Action Adventure Crime</td>\n    </tr>\n    <tr>\n      <th>3</th>\n      <td>49026</td>\n      <td>The Dark Knight Rises</td>\n      <td>[Action, Crime, Drama, Thriller]</td>\n      <td>7.6</td>\n      <td>9106</td>\n      <td>112.312950</td>\n      <td>[dc comics, crime fighter, terrorist, secret i...</td>\n      <td>Following the death of District Attorney Harve...</td>\n      <td>Action Crime Drama Thriller</td>\n    </tr>\n    <tr>\n      <th>4</th>\n      <td>49529</td>\n      <td>John Carter</td>\n      <td>[Action, Adventure, Science Fiction]</td>\n      <td>6.1</td>\n      <td>2124</td>\n      <td>43.926995</td>\n      <td>[based on novel, mars, medallion, space travel...</td>\n      <td>John Carter is a war-weary, former military ca...</td>\n      <td>Action Adventure Science Fiction</td>\n    </tr>\n    <tr>\n      <th>...</th>\n      <td>...</td>\n      <td>...</td>\n      <td>...</td>\n      <td>...</td>\n      <td>...</td>\n      <td>...</td>\n      <td>...</td>\n      <td>...</td>\n      <td>...</td>\n    </tr>\n    <tr>\n      <th>4798</th>\n      <td>9367</td>\n      <td>El Mariachi</td>\n      <td>[Action, Crime, Thriller]</td>\n      <td>6.6</td>\n      <td>238</td>\n      <td>14.269792</td>\n      <td>[united states–mexico barrier, legs, arms, pap...</td>\n      <td>El Mariachi just wants to play his guitar and ...</td>\n      <td>Action Crime Thriller</td>\n    </tr>\n    <tr>\n      <th>4799</th>\n      <td>72766</td>\n      <td>Newlyweds</td>\n      <td>[Comedy, Romance]</td>\n      <td>5.9</td>\n      <td>5</td>\n      <td>0.642552</td>\n      <td>[]</td>\n      <td>A newlywed couple's honeymoon is upended by th...</td>\n      <td>Comedy Romance</td>\n    </tr>\n    <tr>\n      <th>4800</th>\n      <td>231617</td>\n      <td>Signed, Sealed, Delivered</td>\n      <td>[Comedy, Drama, Romance, TV Movie]</td>\n      <td>7.0</td>\n      <td>6</td>\n      <td>1.444476</td>\n      <td>[date, love at first sight, narration, investi...</td>\n      <td>\"Signed, Sealed, Delivered\" introduces a dedic...</td>\n      <td>Comedy Drama Romance TV Movie</td>\n    </tr>\n    <tr>\n      <th>4801</th>\n      <td>126186</td>\n      <td>Shanghai Calling</td>\n      <td>[]</td>\n      <td>5.7</td>\n      <td>7</td>\n      <td>0.857008</td>\n      <td>[]</td>\n      <td>When ambitious New York attorney Sam is sent t...</td>\n      <td></td>\n    </tr>\n    <tr>\n      <th>4802</th>\n      <td>25975</td>\n      <td>My Date with Drew</td>\n      <td>[Documentary]</td>\n      <td>6.3</td>\n      <td>16</td>\n      <td>1.929883</td>\n      <td>[obsession, camcorder, crush, dream girl]</td>\n      <td>Ever since the second grade when he first saw ...</td>\n      <td>Documentary</td>\n    </tr>\n  </tbody>\n</table>\n<p>4803 rows × 9 columns</p>\n</div>"
     },
     "execution_count": 25,
     "metadata": {},
     "output_type": "execute_result"
    }
   ],
   "source": [
    "movies_df"
   ],
   "metadata": {
    "collapsed": false
   }
  },
  {
   "cell_type": "code",
   "execution_count": 24,
   "outputs": [
    {
     "name": "stdout",
     "output_type": "stream",
     "text": [
      "  (0, 0)\t1\n",
      "  (0, 1)\t1\n",
      "  (0, 16)\t1\n",
      "  (0, 24)\t1\n",
      "  (0, 124)\t1\n",
      "  (0, 135)\t1\n",
      "  (0, 138)\t1\n",
      "  (0, 232)\t1\n",
      "  (0, 233)\t1\n",
      "  (1, 0)\t1\n",
      "  (1, 16)\t1\n",
      "  (1, 24)\t1\n",
      "  (1, 124)\t1\n",
      "  (1, 125)\t1\n",
      "  (2, 0)\t1\n",
      "  (2, 1)\t1\n",
      "  (2, 16)\t1\n",
      "  (2, 20)\t1\n",
      "  (2, 64)\t1\n",
      "  (3, 0)\t1\n",
      "  (3, 4)\t1\n",
      "  (3, 64)\t1\n",
      "  (3, 68)\t1\n",
      "  (3, 90)\t1\n",
      "  (3, 106)\t1\n",
      "  :\t:\n",
      "  (4796, 144)\t1\n",
      "  (4796, 232)\t1\n",
      "  (4796, 233)\t1\n",
      "  (4796, 234)\t1\n",
      "  (4797, 153)\t1\n",
      "  (4797, 157)\t1\n",
      "  (4797, 234)\t1\n",
      "  (4798, 0)\t1\n",
      "  (4798, 4)\t1\n",
      "  (4798, 64)\t1\n",
      "  (4798, 78)\t1\n",
      "  (4798, 234)\t1\n",
      "  (4799, 44)\t1\n",
      "  (4799, 58)\t1\n",
      "  (4799, 214)\t1\n",
      "  (4800, 44)\t1\n",
      "  (4800, 50)\t1\n",
      "  (4800, 90)\t1\n",
      "  (4800, 104)\t1\n",
      "  (4800, 182)\t1\n",
      "  (4800, 214)\t1\n",
      "  (4800, 229)\t1\n",
      "  (4800, 250)\t1\n",
      "  (4800, 251)\t1\n",
      "  (4802, 80)\t1\n"
     ]
    }
   ],
   "source": [
    "print(genre_mat)"
   ],
   "metadata": {
    "collapsed": false
   }
  },
  {
   "cell_type": "code",
   "execution_count": 23,
   "outputs": [
    {
     "name": "stdout",
     "output_type": "stream",
     "text": [
      "(4803, 4803)\n",
      "[[1.         0.59628479 0.4472136  ... 0.         0.         0.        ]\n",
      " [0.59628479 1.         0.4        ... 0.         0.         0.        ]]\n"
     ]
    }
   ],
   "source": [
    "from sklearn.metrics.pairwise import cosine_similarity\n",
    "\n",
    "genre_sim = cosine_similarity(genre_mat, genre_mat)\n",
    "print(genre_sim.shape)\n",
    "print(genre_sim[:2])"
   ],
   "metadata": {
    "collapsed": false
   }
  },
  {
   "cell_type": "code",
   "execution_count": 26,
   "outputs": [
    {
     "name": "stdout",
     "output_type": "stream",
     "text": [
      "[[   0 3494  813 ... 3038 3037 2401]]\n"
     ]
    }
   ],
   "source": [
    "genre_sim_sorted_ind = genre_sim.argsort()[:, ::-1]\n",
    "print(genre_sim_sorted_ind[:1])"
   ],
   "metadata": {
    "collapsed": false
   }
  },
  {
   "cell_type": "code",
   "execution_count": 27,
   "outputs": [],
   "source": [
    "def find_sim_movie(df, sorted_ind, title_name, top_n=10):\n",
    "    title_movie = df[df['title']==title_name]\n",
    "\n",
    "    title_index = title_movie.index.values\n",
    "    similar_indexs = sorted_ind[title_index, :(top_n)]\n",
    "\n",
    "    print(similar_indexs)\n",
    "    similar_indexs = similar_indexs.reshape(-1)\n",
    "\n",
    "    return df.iloc[similar_indexs]"
   ],
   "metadata": {
    "collapsed": false
   }
  },
  {
   "cell_type": "code",
   "execution_count": 28,
   "outputs": [
    {
     "name": "stdout",
     "output_type": "stream",
     "text": [
      "[[2731 1243 3636 1946 2640 4065 1847 4217  883 3866]]\n"
     ]
    },
    {
     "data": {
      "text/plain": "                                               title  vote_average\n2731                          The Godfather: Part II           8.3\n1243                                    Mean Streets           7.2\n3636                                   Light Sleeper           5.7\n1946  The Bad Lieutenant: Port of Call - New Orleans           6.0\n2640         Things to Do in Denver When You're Dead           6.7\n4065                                      Mi America           0.0\n1847                                      GoodFellas           8.2\n4217                                            Kids           6.8\n883                              Catch Me If You Can           7.7\n3866                                     City of God           8.1",
      "text/html": "<div>\n<style scoped>\n    .dataframe tbody tr th:only-of-type {\n        vertical-align: middle;\n    }\n\n    .dataframe tbody tr th {\n        vertical-align: top;\n    }\n\n    .dataframe thead th {\n        text-align: right;\n    }\n</style>\n<table border=\"1\" class=\"dataframe\">\n  <thead>\n    <tr style=\"text-align: right;\">\n      <th></th>\n      <th>title</th>\n      <th>vote_average</th>\n    </tr>\n  </thead>\n  <tbody>\n    <tr>\n      <th>2731</th>\n      <td>The Godfather: Part II</td>\n      <td>8.3</td>\n    </tr>\n    <tr>\n      <th>1243</th>\n      <td>Mean Streets</td>\n      <td>7.2</td>\n    </tr>\n    <tr>\n      <th>3636</th>\n      <td>Light Sleeper</td>\n      <td>5.7</td>\n    </tr>\n    <tr>\n      <th>1946</th>\n      <td>The Bad Lieutenant: Port of Call - New Orleans</td>\n      <td>6.0</td>\n    </tr>\n    <tr>\n      <th>2640</th>\n      <td>Things to Do in Denver When You're Dead</td>\n      <td>6.7</td>\n    </tr>\n    <tr>\n      <th>4065</th>\n      <td>Mi America</td>\n      <td>0.0</td>\n    </tr>\n    <tr>\n      <th>1847</th>\n      <td>GoodFellas</td>\n      <td>8.2</td>\n    </tr>\n    <tr>\n      <th>4217</th>\n      <td>Kids</td>\n      <td>6.8</td>\n    </tr>\n    <tr>\n      <th>883</th>\n      <td>Catch Me If You Can</td>\n      <td>7.7</td>\n    </tr>\n    <tr>\n      <th>3866</th>\n      <td>City of God</td>\n      <td>8.1</td>\n    </tr>\n  </tbody>\n</table>\n</div>"
     },
     "execution_count": 28,
     "metadata": {},
     "output_type": "execute_result"
    }
   ],
   "source": [
    "similar_movies = find_sim_movie(movies_df, genre_sim_sorted_ind, 'The Godfather', 10)\n",
    "similar_movies[['title','vote_average']]"
   ],
   "metadata": {
    "collapsed": false
   }
  },
  {
   "cell_type": "code",
   "execution_count": 29,
   "outputs": [
    {
     "data": {
      "text/plain": "                         title  vote_average  vote_count\n3519          Stiff Upper Lips          10.0           1\n4247     Me You and Five Bucks          10.0           2\n4045     Dancer, Texas Pop. 81          10.0           1\n4662            Little Big Top          10.0           1\n3992                 Sardaarji           9.5           2\n2386            One Man's Hero           9.3           2\n2970        There Goes My Baby           8.5           2\n1881  The Shawshank Redemption           8.5        8205\n2796     The Prisoner of Zenda           8.4          11\n3337             The Godfather           8.4        5893",
      "text/html": "<div>\n<style scoped>\n    .dataframe tbody tr th:only-of-type {\n        vertical-align: middle;\n    }\n\n    .dataframe tbody tr th {\n        vertical-align: top;\n    }\n\n    .dataframe thead th {\n        text-align: right;\n    }\n</style>\n<table border=\"1\" class=\"dataframe\">\n  <thead>\n    <tr style=\"text-align: right;\">\n      <th></th>\n      <th>title</th>\n      <th>vote_average</th>\n      <th>vote_count</th>\n    </tr>\n  </thead>\n  <tbody>\n    <tr>\n      <th>3519</th>\n      <td>Stiff Upper Lips</td>\n      <td>10.0</td>\n      <td>1</td>\n    </tr>\n    <tr>\n      <th>4247</th>\n      <td>Me You and Five Bucks</td>\n      <td>10.0</td>\n      <td>2</td>\n    </tr>\n    <tr>\n      <th>4045</th>\n      <td>Dancer, Texas Pop. 81</td>\n      <td>10.0</td>\n      <td>1</td>\n    </tr>\n    <tr>\n      <th>4662</th>\n      <td>Little Big Top</td>\n      <td>10.0</td>\n      <td>1</td>\n    </tr>\n    <tr>\n      <th>3992</th>\n      <td>Sardaarji</td>\n      <td>9.5</td>\n      <td>2</td>\n    </tr>\n    <tr>\n      <th>2386</th>\n      <td>One Man's Hero</td>\n      <td>9.3</td>\n      <td>2</td>\n    </tr>\n    <tr>\n      <th>2970</th>\n      <td>There Goes My Baby</td>\n      <td>8.5</td>\n      <td>2</td>\n    </tr>\n    <tr>\n      <th>1881</th>\n      <td>The Shawshank Redemption</td>\n      <td>8.5</td>\n      <td>8205</td>\n    </tr>\n    <tr>\n      <th>2796</th>\n      <td>The Prisoner of Zenda</td>\n      <td>8.4</td>\n      <td>11</td>\n    </tr>\n    <tr>\n      <th>3337</th>\n      <td>The Godfather</td>\n      <td>8.4</td>\n      <td>5893</td>\n    </tr>\n  </tbody>\n</table>\n</div>"
     },
     "execution_count": 29,
     "metadata": {},
     "output_type": "execute_result"
    }
   ],
   "source": [
    "movies_df[['title','vote_average','vote_count']].sort_values('vote_average',ascending=False)[:10]"
   ],
   "metadata": {
    "collapsed": false
   }
  },
  {
   "cell_type": "code",
   "execution_count": 41,
   "outputs": [],
   "source": [
    "# 가중 평점 구하기\n",
    "\n",
    "percentile = 0.6\n",
    "C = movies_df['vote_average'].mean()\n",
    "m = movies_df['vote_average'].quantile(0.6)\n",
    "\n",
    "def weighted_vote_average(record):\n",
    "    v = record['vote_count']\n",
    "    R = record['vote_average']\n",
    "\n",
    "    return ((v/(v+m)) * R) + ((m/(m+v))*C)\n",
    "movies_df['weighted_vote'] = movies.apply(weighted_vote_average, axis=1)"
   ],
   "metadata": {
    "collapsed": false
   }
  },
  {
   "cell_type": "code",
   "execution_count": 42,
   "outputs": [
    {
     "data": {
      "text/plain": "                         title  vote_average  weighted_vote  vote_count\n1881  The Shawshank Redemption           8.5       8.498094        8205\n3337             The Godfather           8.4       8.397457        5893\n662                 Fight Club           8.3       8.298476        9413\n3232              Pulp Fiction           8.3       8.298299        8428\n1818          Schindler's List           8.3       8.296690        4329\n3865                  Whiplash           8.3       8.296632        4254\n2294             Spirited Away           8.3       8.296269        3840\n2731    The Godfather: Part II           8.3       8.295709        3338\n65             The Dark Knight           8.2       8.198859       12002\n809               Forrest Gump           8.2       8.198273        7927",
      "text/html": "<div>\n<style scoped>\n    .dataframe tbody tr th:only-of-type {\n        vertical-align: middle;\n    }\n\n    .dataframe tbody tr th {\n        vertical-align: top;\n    }\n\n    .dataframe thead th {\n        text-align: right;\n    }\n</style>\n<table border=\"1\" class=\"dataframe\">\n  <thead>\n    <tr style=\"text-align: right;\">\n      <th></th>\n      <th>title</th>\n      <th>vote_average</th>\n      <th>weighted_vote</th>\n      <th>vote_count</th>\n    </tr>\n  </thead>\n  <tbody>\n    <tr>\n      <th>1881</th>\n      <td>The Shawshank Redemption</td>\n      <td>8.5</td>\n      <td>8.498094</td>\n      <td>8205</td>\n    </tr>\n    <tr>\n      <th>3337</th>\n      <td>The Godfather</td>\n      <td>8.4</td>\n      <td>8.397457</td>\n      <td>5893</td>\n    </tr>\n    <tr>\n      <th>662</th>\n      <td>Fight Club</td>\n      <td>8.3</td>\n      <td>8.298476</td>\n      <td>9413</td>\n    </tr>\n    <tr>\n      <th>3232</th>\n      <td>Pulp Fiction</td>\n      <td>8.3</td>\n      <td>8.298299</td>\n      <td>8428</td>\n    </tr>\n    <tr>\n      <th>1818</th>\n      <td>Schindler's List</td>\n      <td>8.3</td>\n      <td>8.296690</td>\n      <td>4329</td>\n    </tr>\n    <tr>\n      <th>3865</th>\n      <td>Whiplash</td>\n      <td>8.3</td>\n      <td>8.296632</td>\n      <td>4254</td>\n    </tr>\n    <tr>\n      <th>2294</th>\n      <td>Spirited Away</td>\n      <td>8.3</td>\n      <td>8.296269</td>\n      <td>3840</td>\n    </tr>\n    <tr>\n      <th>2731</th>\n      <td>The Godfather: Part II</td>\n      <td>8.3</td>\n      <td>8.295709</td>\n      <td>3338</td>\n    </tr>\n    <tr>\n      <th>65</th>\n      <td>The Dark Knight</td>\n      <td>8.2</td>\n      <td>8.198859</td>\n      <td>12002</td>\n    </tr>\n    <tr>\n      <th>809</th>\n      <td>Forrest Gump</td>\n      <td>8.2</td>\n      <td>8.198273</td>\n      <td>7927</td>\n    </tr>\n  </tbody>\n</table>\n</div>"
     },
     "execution_count": 42,
     "metadata": {},
     "output_type": "execute_result"
    }
   ],
   "source": [
    "movies_df[['title','vote_average','weighted_vote','vote_count']].sort_values('weighted_vote',ascending=False)[:10]"
   ],
   "metadata": {
    "collapsed": false
   }
  },
  {
   "cell_type": "code",
   "execution_count": 43,
   "outputs": [
    {
     "ename": "ValueError",
     "evalue": "Buffer has wrong number of dimensions (expected 1, got 3)",
     "output_type": "error",
     "traceback": [
      "\u001B[1;31m---------------------------------------------------------------------------\u001B[0m",
      "\u001B[1;31mValueError\u001B[0m                                Traceback (most recent call last)",
      "\u001B[1;32m~\\AppData\\Local\\Temp\\ipykernel_1076\\2682076586.py\u001B[0m in \u001B[0;36m<module>\u001B[1;34m\u001B[0m\n\u001B[0;32m     10\u001B[0m     \u001B[1;32mreturn\u001B[0m \u001B[0mdf\u001B[0m\u001B[1;33m.\u001B[0m\u001B[0miloc\u001B[0m\u001B[1;33m[\u001B[0m\u001B[0msimilar_indexs\u001B[0m\u001B[1;33m]\u001B[0m\u001B[1;33m.\u001B[0m\u001B[0msort_values\u001B[0m\u001B[1;33m(\u001B[0m\u001B[1;34m'weighted_vote'\u001B[0m\u001B[1;33m,\u001B[0m \u001B[0mascending\u001B[0m\u001B[1;33m=\u001B[0m\u001B[1;32mFalse\u001B[0m\u001B[1;33m)\u001B[0m\u001B[1;33m[\u001B[0m\u001B[1;33m:\u001B[0m\u001B[0mtop_n\u001B[0m\u001B[1;33m]\u001B[0m\u001B[1;33m\u001B[0m\u001B[1;33m\u001B[0m\u001B[0m\n\u001B[0;32m     11\u001B[0m \u001B[1;33m\u001B[0m\u001B[0m\n\u001B[1;32m---> 12\u001B[1;33m \u001B[0msimilar_movies\u001B[0m \u001B[1;33m=\u001B[0m \u001B[0mfind_sim_movie\u001B[0m\u001B[1;33m(\u001B[0m\u001B[0mmovies_df\u001B[0m\u001B[1;33m,\u001B[0m \u001B[0mgenre_sim_sorted_ind\u001B[0m\u001B[1;33m,\u001B[0m \u001B[1;34m'The Godfater'\u001B[0m\u001B[1;33m,\u001B[0m \u001B[1;36m10\u001B[0m\u001B[1;33m)\u001B[0m\u001B[1;33m\u001B[0m\u001B[1;33m\u001B[0m\u001B[0m\n\u001B[0m\u001B[0;32m     13\u001B[0m \u001B[0msimilar_movies\u001B[0m\u001B[1;33m[\u001B[0m\u001B[1;33m[\u001B[0m\u001B[1;34m'title'\u001B[0m\u001B[1;33m,\u001B[0m\u001B[1;34m'vote_average'\u001B[0m\u001B[1;33m,\u001B[0m\u001B[1;34m'weighted_vote'\u001B[0m\u001B[1;33m]\u001B[0m\u001B[1;33m]\u001B[0m\u001B[1;33m\u001B[0m\u001B[1;33m\u001B[0m\u001B[0m\n",
      "\u001B[1;32m~\\AppData\\Local\\Temp\\ipykernel_1076\\2682076586.py\u001B[0m in \u001B[0;36mfind_sim_movie\u001B[1;34m(df, sorted_ind, title_name, top_n)\u001B[0m\n\u001B[0;32m      8\u001B[0m     \u001B[0msimilar_indexs\u001B[0m \u001B[1;33m=\u001B[0m \u001B[0msimilar_indexes\u001B[0m\u001B[1;33m[\u001B[0m\u001B[0msimilar_indexes\u001B[0m \u001B[1;33m!=\u001B[0m \u001B[0mtitle_index\u001B[0m\u001B[1;33m]\u001B[0m\u001B[1;33m\u001B[0m\u001B[1;33m\u001B[0m\u001B[0m\n\u001B[0;32m      9\u001B[0m \u001B[1;33m\u001B[0m\u001B[0m\n\u001B[1;32m---> 10\u001B[1;33m     \u001B[1;32mreturn\u001B[0m \u001B[0mdf\u001B[0m\u001B[1;33m.\u001B[0m\u001B[0miloc\u001B[0m\u001B[1;33m[\u001B[0m\u001B[0msimilar_indexs\u001B[0m\u001B[1;33m]\u001B[0m\u001B[1;33m.\u001B[0m\u001B[0msort_values\u001B[0m\u001B[1;33m(\u001B[0m\u001B[1;34m'weighted_vote'\u001B[0m\u001B[1;33m,\u001B[0m \u001B[0mascending\u001B[0m\u001B[1;33m=\u001B[0m\u001B[1;32mFalse\u001B[0m\u001B[1;33m)\u001B[0m\u001B[1;33m[\u001B[0m\u001B[1;33m:\u001B[0m\u001B[0mtop_n\u001B[0m\u001B[1;33m]\u001B[0m\u001B[1;33m\u001B[0m\u001B[1;33m\u001B[0m\u001B[0m\n\u001B[0m\u001B[0;32m     11\u001B[0m \u001B[1;33m\u001B[0m\u001B[0m\n\u001B[0;32m     12\u001B[0m \u001B[0msimilar_movies\u001B[0m \u001B[1;33m=\u001B[0m \u001B[0mfind_sim_movie\u001B[0m\u001B[1;33m(\u001B[0m\u001B[0mmovies_df\u001B[0m\u001B[1;33m,\u001B[0m \u001B[0mgenre_sim_sorted_ind\u001B[0m\u001B[1;33m,\u001B[0m \u001B[1;34m'The Godfater'\u001B[0m\u001B[1;33m,\u001B[0m \u001B[1;36m10\u001B[0m\u001B[1;33m)\u001B[0m\u001B[1;33m\u001B[0m\u001B[1;33m\u001B[0m\u001B[0m\n",
      "\u001B[1;32m~\\Anaconda3\\lib\\site-packages\\pandas\\core\\indexing.py\u001B[0m in \u001B[0;36m__getitem__\u001B[1;34m(self, key)\u001B[0m\n\u001B[0;32m    965\u001B[0m \u001B[1;33m\u001B[0m\u001B[0m\n\u001B[0;32m    966\u001B[0m             \u001B[0mmaybe_callable\u001B[0m \u001B[1;33m=\u001B[0m \u001B[0mcom\u001B[0m\u001B[1;33m.\u001B[0m\u001B[0mapply_if_callable\u001B[0m\u001B[1;33m(\u001B[0m\u001B[0mkey\u001B[0m\u001B[1;33m,\u001B[0m \u001B[0mself\u001B[0m\u001B[1;33m.\u001B[0m\u001B[0mobj\u001B[0m\u001B[1;33m)\u001B[0m\u001B[1;33m\u001B[0m\u001B[1;33m\u001B[0m\u001B[0m\n\u001B[1;32m--> 967\u001B[1;33m             \u001B[1;32mreturn\u001B[0m \u001B[0mself\u001B[0m\u001B[1;33m.\u001B[0m\u001B[0m_getitem_axis\u001B[0m\u001B[1;33m(\u001B[0m\u001B[0mmaybe_callable\u001B[0m\u001B[1;33m,\u001B[0m \u001B[0maxis\u001B[0m\u001B[1;33m=\u001B[0m\u001B[0maxis\u001B[0m\u001B[1;33m)\u001B[0m\u001B[1;33m\u001B[0m\u001B[1;33m\u001B[0m\u001B[0m\n\u001B[0m\u001B[0;32m    968\u001B[0m \u001B[1;33m\u001B[0m\u001B[0m\n\u001B[0;32m    969\u001B[0m     \u001B[1;32mdef\u001B[0m \u001B[0m_is_scalar_access\u001B[0m\u001B[1;33m(\u001B[0m\u001B[0mself\u001B[0m\u001B[1;33m,\u001B[0m \u001B[0mkey\u001B[0m\u001B[1;33m:\u001B[0m \u001B[0mtuple\u001B[0m\u001B[1;33m)\u001B[0m\u001B[1;33m:\u001B[0m\u001B[1;33m\u001B[0m\u001B[1;33m\u001B[0m\u001B[0m\n",
      "\u001B[1;32m~\\Anaconda3\\lib\\site-packages\\pandas\\core\\indexing.py\u001B[0m in \u001B[0;36m_getitem_axis\u001B[1;34m(self, key, axis)\u001B[0m\n\u001B[0;32m   1512\u001B[0m         \u001B[1;31m# a list of integers\u001B[0m\u001B[1;33m\u001B[0m\u001B[1;33m\u001B[0m\u001B[0m\n\u001B[0;32m   1513\u001B[0m         \u001B[1;32melif\u001B[0m \u001B[0mis_list_like_indexer\u001B[0m\u001B[1;33m(\u001B[0m\u001B[0mkey\u001B[0m\u001B[1;33m)\u001B[0m\u001B[1;33m:\u001B[0m\u001B[1;33m\u001B[0m\u001B[1;33m\u001B[0m\u001B[0m\n\u001B[1;32m-> 1514\u001B[1;33m             \u001B[1;32mreturn\u001B[0m \u001B[0mself\u001B[0m\u001B[1;33m.\u001B[0m\u001B[0m_get_list_axis\u001B[0m\u001B[1;33m(\u001B[0m\u001B[0mkey\u001B[0m\u001B[1;33m,\u001B[0m \u001B[0maxis\u001B[0m\u001B[1;33m=\u001B[0m\u001B[0maxis\u001B[0m\u001B[1;33m)\u001B[0m\u001B[1;33m\u001B[0m\u001B[1;33m\u001B[0m\u001B[0m\n\u001B[0m\u001B[0;32m   1515\u001B[0m \u001B[1;33m\u001B[0m\u001B[0m\n\u001B[0;32m   1516\u001B[0m         \u001B[1;31m# a single integer\u001B[0m\u001B[1;33m\u001B[0m\u001B[1;33m\u001B[0m\u001B[0m\n",
      "\u001B[1;32m~\\Anaconda3\\lib\\site-packages\\pandas\\core\\indexing.py\u001B[0m in \u001B[0;36m_get_list_axis\u001B[1;34m(self, key, axis)\u001B[0m\n\u001B[0;32m   1483\u001B[0m         \"\"\"\n\u001B[0;32m   1484\u001B[0m         \u001B[1;32mtry\u001B[0m\u001B[1;33m:\u001B[0m\u001B[1;33m\u001B[0m\u001B[1;33m\u001B[0m\u001B[0m\n\u001B[1;32m-> 1485\u001B[1;33m             \u001B[1;32mreturn\u001B[0m \u001B[0mself\u001B[0m\u001B[1;33m.\u001B[0m\u001B[0mobj\u001B[0m\u001B[1;33m.\u001B[0m\u001B[0m_take_with_is_copy\u001B[0m\u001B[1;33m(\u001B[0m\u001B[0mkey\u001B[0m\u001B[1;33m,\u001B[0m \u001B[0maxis\u001B[0m\u001B[1;33m=\u001B[0m\u001B[0maxis\u001B[0m\u001B[1;33m)\u001B[0m\u001B[1;33m\u001B[0m\u001B[1;33m\u001B[0m\u001B[0m\n\u001B[0m\u001B[0;32m   1486\u001B[0m         \u001B[1;32mexcept\u001B[0m \u001B[0mIndexError\u001B[0m \u001B[1;32mas\u001B[0m \u001B[0merr\u001B[0m\u001B[1;33m:\u001B[0m\u001B[1;33m\u001B[0m\u001B[1;33m\u001B[0m\u001B[0m\n\u001B[0;32m   1487\u001B[0m             \u001B[1;31m# re-raise with different error message\u001B[0m\u001B[1;33m\u001B[0m\u001B[1;33m\u001B[0m\u001B[0m\n",
      "\u001B[1;32m~\\Anaconda3\\lib\\site-packages\\pandas\\core\\generic.py\u001B[0m in \u001B[0;36m_take_with_is_copy\u001B[1;34m(self, indices, axis)\u001B[0m\n\u001B[0;32m   3714\u001B[0m         \u001B[0mSee\u001B[0m \u001B[0mthe\u001B[0m \u001B[0mdocstring\u001B[0m \u001B[0mof\u001B[0m\u001B[0;31m \u001B[0m\u001B[0;31m`\u001B[0m\u001B[0mtake\u001B[0m\u001B[0;31m`\u001B[0m \u001B[1;32mfor\u001B[0m \u001B[0mfull\u001B[0m \u001B[0mexplanation\u001B[0m \u001B[0mof\u001B[0m \u001B[0mthe\u001B[0m \u001B[0mparameters\u001B[0m\u001B[1;33m.\u001B[0m\u001B[1;33m\u001B[0m\u001B[1;33m\u001B[0m\u001B[0m\n\u001B[0;32m   3715\u001B[0m         \"\"\"\n\u001B[1;32m-> 3716\u001B[1;33m         \u001B[0mresult\u001B[0m \u001B[1;33m=\u001B[0m \u001B[0mself\u001B[0m\u001B[1;33m.\u001B[0m\u001B[0mtake\u001B[0m\u001B[1;33m(\u001B[0m\u001B[0mindices\u001B[0m\u001B[1;33m=\u001B[0m\u001B[0mindices\u001B[0m\u001B[1;33m,\u001B[0m \u001B[0maxis\u001B[0m\u001B[1;33m=\u001B[0m\u001B[0maxis\u001B[0m\u001B[1;33m)\u001B[0m\u001B[1;33m\u001B[0m\u001B[1;33m\u001B[0m\u001B[0m\n\u001B[0m\u001B[0;32m   3717\u001B[0m         \u001B[1;31m# Maybe set copy if we didn't actually change the index.\u001B[0m\u001B[1;33m\u001B[0m\u001B[1;33m\u001B[0m\u001B[0m\n\u001B[0;32m   3718\u001B[0m         \u001B[1;32mif\u001B[0m \u001B[1;32mnot\u001B[0m \u001B[0mresult\u001B[0m\u001B[1;33m.\u001B[0m\u001B[0m_get_axis\u001B[0m\u001B[1;33m(\u001B[0m\u001B[0maxis\u001B[0m\u001B[1;33m)\u001B[0m\u001B[1;33m.\u001B[0m\u001B[0mequals\u001B[0m\u001B[1;33m(\u001B[0m\u001B[0mself\u001B[0m\u001B[1;33m.\u001B[0m\u001B[0m_get_axis\u001B[0m\u001B[1;33m(\u001B[0m\u001B[0maxis\u001B[0m\u001B[1;33m)\u001B[0m\u001B[1;33m)\u001B[0m\u001B[1;33m:\u001B[0m\u001B[1;33m\u001B[0m\u001B[1;33m\u001B[0m\u001B[0m\n",
      "\u001B[1;32m~\\Anaconda3\\lib\\site-packages\\pandas\\core\\generic.py\u001B[0m in \u001B[0;36mtake\u001B[1;34m(self, indices, axis, is_copy, **kwargs)\u001B[0m\n\u001B[0;32m   3701\u001B[0m         \u001B[0mself\u001B[0m\u001B[1;33m.\u001B[0m\u001B[0m_consolidate_inplace\u001B[0m\u001B[1;33m(\u001B[0m\u001B[1;33m)\u001B[0m\u001B[1;33m\u001B[0m\u001B[1;33m\u001B[0m\u001B[0m\n\u001B[0;32m   3702\u001B[0m \u001B[1;33m\u001B[0m\u001B[0m\n\u001B[1;32m-> 3703\u001B[1;33m         new_data = self._mgr.take(\n\u001B[0m\u001B[0;32m   3704\u001B[0m             \u001B[0mindices\u001B[0m\u001B[1;33m,\u001B[0m \u001B[0maxis\u001B[0m\u001B[1;33m=\u001B[0m\u001B[0mself\u001B[0m\u001B[1;33m.\u001B[0m\u001B[0m_get_block_manager_axis\u001B[0m\u001B[1;33m(\u001B[0m\u001B[0maxis\u001B[0m\u001B[1;33m)\u001B[0m\u001B[1;33m,\u001B[0m \u001B[0mverify\u001B[0m\u001B[1;33m=\u001B[0m\u001B[1;32mTrue\u001B[0m\u001B[1;33m\u001B[0m\u001B[1;33m\u001B[0m\u001B[0m\n\u001B[0;32m   3705\u001B[0m         )\n",
      "\u001B[1;32m~\\Anaconda3\\lib\\site-packages\\pandas\\core\\internals\\managers.py\u001B[0m in \u001B[0;36mtake\u001B[1;34m(self, indexer, axis, verify)\u001B[0m\n\u001B[0;32m    895\u001B[0m \u001B[1;33m\u001B[0m\u001B[0m\n\u001B[0;32m    896\u001B[0m         \u001B[0mnew_labels\u001B[0m \u001B[1;33m=\u001B[0m \u001B[0mself\u001B[0m\u001B[1;33m.\u001B[0m\u001B[0maxes\u001B[0m\u001B[1;33m[\u001B[0m\u001B[0maxis\u001B[0m\u001B[1;33m]\u001B[0m\u001B[1;33m.\u001B[0m\u001B[0mtake\u001B[0m\u001B[1;33m(\u001B[0m\u001B[0mindexer\u001B[0m\u001B[1;33m)\u001B[0m\u001B[1;33m\u001B[0m\u001B[1;33m\u001B[0m\u001B[0m\n\u001B[1;32m--> 897\u001B[1;33m         return self.reindex_indexer(\n\u001B[0m\u001B[0;32m    898\u001B[0m             \u001B[0mnew_axis\u001B[0m\u001B[1;33m=\u001B[0m\u001B[0mnew_labels\u001B[0m\u001B[1;33m,\u001B[0m\u001B[1;33m\u001B[0m\u001B[1;33m\u001B[0m\u001B[0m\n\u001B[0;32m    899\u001B[0m             \u001B[0mindexer\u001B[0m\u001B[1;33m=\u001B[0m\u001B[0mindexer\u001B[0m\u001B[1;33m,\u001B[0m\u001B[1;33m\u001B[0m\u001B[1;33m\u001B[0m\u001B[0m\n",
      "\u001B[1;32m~\\Anaconda3\\lib\\site-packages\\pandas\\core\\internals\\managers.py\u001B[0m in \u001B[0;36mreindex_indexer\u001B[1;34m(self, new_axis, indexer, axis, fill_value, allow_dups, copy, consolidate, only_slice, use_na_proxy)\u001B[0m\n\u001B[0;32m    687\u001B[0m             )\n\u001B[0;32m    688\u001B[0m         \u001B[1;32melse\u001B[0m\u001B[1;33m:\u001B[0m\u001B[1;33m\u001B[0m\u001B[1;33m\u001B[0m\u001B[0m\n\u001B[1;32m--> 689\u001B[1;33m             new_blocks = [\n\u001B[0m\u001B[0;32m    690\u001B[0m                 blk.take_nd(\n\u001B[0;32m    691\u001B[0m                     \u001B[0mindexer\u001B[0m\u001B[1;33m,\u001B[0m\u001B[1;33m\u001B[0m\u001B[1;33m\u001B[0m\u001B[0m\n",
      "\u001B[1;32m~\\Anaconda3\\lib\\site-packages\\pandas\\core\\internals\\managers.py\u001B[0m in \u001B[0;36m<listcomp>\u001B[1;34m(.0)\u001B[0m\n\u001B[0;32m    688\u001B[0m         \u001B[1;32melse\u001B[0m\u001B[1;33m:\u001B[0m\u001B[1;33m\u001B[0m\u001B[1;33m\u001B[0m\u001B[0m\n\u001B[0;32m    689\u001B[0m             new_blocks = [\n\u001B[1;32m--> 690\u001B[1;33m                 blk.take_nd(\n\u001B[0m\u001B[0;32m    691\u001B[0m                     \u001B[0mindexer\u001B[0m\u001B[1;33m,\u001B[0m\u001B[1;33m\u001B[0m\u001B[1;33m\u001B[0m\u001B[0m\n\u001B[0;32m    692\u001B[0m                     \u001B[0maxis\u001B[0m\u001B[1;33m=\u001B[0m\u001B[1;36m1\u001B[0m\u001B[1;33m,\u001B[0m\u001B[1;33m\u001B[0m\u001B[1;33m\u001B[0m\u001B[0m\n",
      "\u001B[1;32m~\\Anaconda3\\lib\\site-packages\\pandas\\core\\internals\\blocks.py\u001B[0m in \u001B[0;36mtake_nd\u001B[1;34m(self, indexer, axis, new_mgr_locs, fill_value)\u001B[0m\n\u001B[0;32m   1137\u001B[0m             \u001B[0mallow_fill\u001B[0m \u001B[1;33m=\u001B[0m \u001B[1;32mTrue\u001B[0m\u001B[1;33m\u001B[0m\u001B[1;33m\u001B[0m\u001B[0m\n\u001B[0;32m   1138\u001B[0m \u001B[1;33m\u001B[0m\u001B[0m\n\u001B[1;32m-> 1139\u001B[1;33m         new_values = algos.take_nd(\n\u001B[0m\u001B[0;32m   1140\u001B[0m             \u001B[0mvalues\u001B[0m\u001B[1;33m,\u001B[0m \u001B[0mindexer\u001B[0m\u001B[1;33m,\u001B[0m \u001B[0maxis\u001B[0m\u001B[1;33m=\u001B[0m\u001B[0maxis\u001B[0m\u001B[1;33m,\u001B[0m \u001B[0mallow_fill\u001B[0m\u001B[1;33m=\u001B[0m\u001B[0mallow_fill\u001B[0m\u001B[1;33m,\u001B[0m \u001B[0mfill_value\u001B[0m\u001B[1;33m=\u001B[0m\u001B[0mfill_value\u001B[0m\u001B[1;33m\u001B[0m\u001B[1;33m\u001B[0m\u001B[0m\n\u001B[0;32m   1141\u001B[0m         )\n",
      "\u001B[1;32m~\\Anaconda3\\lib\\site-packages\\pandas\\core\\array_algos\\take.py\u001B[0m in \u001B[0;36mtake_nd\u001B[1;34m(arr, indexer, axis, fill_value, allow_fill)\u001B[0m\n\u001B[0;32m    115\u001B[0m \u001B[1;33m\u001B[0m\u001B[0m\n\u001B[0;32m    116\u001B[0m     \u001B[0marr\u001B[0m \u001B[1;33m=\u001B[0m \u001B[0mnp\u001B[0m\u001B[1;33m.\u001B[0m\u001B[0masarray\u001B[0m\u001B[1;33m(\u001B[0m\u001B[0marr\u001B[0m\u001B[1;33m)\u001B[0m\u001B[1;33m\u001B[0m\u001B[1;33m\u001B[0m\u001B[0m\n\u001B[1;32m--> 117\u001B[1;33m     \u001B[1;32mreturn\u001B[0m \u001B[0m_take_nd_ndarray\u001B[0m\u001B[1;33m(\u001B[0m\u001B[0marr\u001B[0m\u001B[1;33m,\u001B[0m \u001B[0mindexer\u001B[0m\u001B[1;33m,\u001B[0m \u001B[0maxis\u001B[0m\u001B[1;33m,\u001B[0m \u001B[0mfill_value\u001B[0m\u001B[1;33m,\u001B[0m \u001B[0mallow_fill\u001B[0m\u001B[1;33m)\u001B[0m\u001B[1;33m\u001B[0m\u001B[1;33m\u001B[0m\u001B[0m\n\u001B[0m\u001B[0;32m    118\u001B[0m \u001B[1;33m\u001B[0m\u001B[0m\n\u001B[0;32m    119\u001B[0m \u001B[1;33m\u001B[0m\u001B[0m\n",
      "\u001B[1;32m~\\Anaconda3\\lib\\site-packages\\pandas\\core\\array_algos\\take.py\u001B[0m in \u001B[0;36m_take_nd_ndarray\u001B[1;34m(arr, indexer, axis, fill_value, allow_fill)\u001B[0m\n\u001B[0;32m    161\u001B[0m         \u001B[0marr\u001B[0m\u001B[1;33m.\u001B[0m\u001B[0mndim\u001B[0m\u001B[1;33m,\u001B[0m \u001B[0marr\u001B[0m\u001B[1;33m.\u001B[0m\u001B[0mdtype\u001B[0m\u001B[1;33m,\u001B[0m \u001B[0mout\u001B[0m\u001B[1;33m.\u001B[0m\u001B[0mdtype\u001B[0m\u001B[1;33m,\u001B[0m \u001B[0maxis\u001B[0m\u001B[1;33m=\u001B[0m\u001B[0maxis\u001B[0m\u001B[1;33m,\u001B[0m \u001B[0mmask_info\u001B[0m\u001B[1;33m=\u001B[0m\u001B[0mmask_info\u001B[0m\u001B[1;33m\u001B[0m\u001B[1;33m\u001B[0m\u001B[0m\n\u001B[0;32m    162\u001B[0m     )\n\u001B[1;32m--> 163\u001B[1;33m     \u001B[0mfunc\u001B[0m\u001B[1;33m(\u001B[0m\u001B[0marr\u001B[0m\u001B[1;33m,\u001B[0m \u001B[0mindexer\u001B[0m\u001B[1;33m,\u001B[0m \u001B[0mout\u001B[0m\u001B[1;33m,\u001B[0m \u001B[0mfill_value\u001B[0m\u001B[1;33m)\u001B[0m\u001B[1;33m\u001B[0m\u001B[1;33m\u001B[0m\u001B[0m\n\u001B[0m\u001B[0;32m    164\u001B[0m \u001B[1;33m\u001B[0m\u001B[0m\n\u001B[0;32m    165\u001B[0m     \u001B[1;32mif\u001B[0m \u001B[0mflip_order\u001B[0m\u001B[1;33m:\u001B[0m\u001B[1;33m\u001B[0m\u001B[1;33m\u001B[0m\u001B[0m\n",
      "\u001B[1;32mpandas\\_libs\\algos_take_helper.pxi\u001B[0m in \u001B[0;36mpandas._libs.algos.take_2d_axis1_float64_float64\u001B[1;34m()\u001B[0m\n",
      "\u001B[1;31mValueError\u001B[0m: Buffer has wrong number of dimensions (expected 1, got 3)"
     ]
    }
   ],
   "source": [
    "def find_sim_movie(df, sorted_ind, title_name, top_n=10):\n",
    "    title_movie = df[df['title']==title_name]\n",
    "    title_index = title_movie.index.values\n",
    "\n",
    "    similar_indexes = sorted_ind[title_index, :(top_n*2)]\n",
    "    similar_indexs = similar_indexes.reshape(-1)\n",
    "\n",
    "    similar_indexs = similar_indexes[similar_indexes != title_index]\n",
    "\n",
    "    return df.iloc[similar_indexs].sort_values('weighted_vote', ascending=False)[:top_n]\n",
    "\n",
    "similar_movies = find_sim_movie(movies_df, genre_sim_sorted_ind, 'The Godfater', 10)\n",
    "similar_movies[['title','vote_average','weighted_vote']]"
   ],
   "metadata": {
    "collapsed": false
   }
  },
  {
   "cell_type": "code",
   "execution_count": null,
   "outputs": [],
   "source": [],
   "metadata": {
    "collapsed": false
   }
  }
 ],
 "metadata": {
  "kernelspec": {
   "display_name": "Python 3",
   "language": "python",
   "name": "python3"
  },
  "language_info": {
   "codemirror_mode": {
    "name": "ipython",
    "version": 2
   },
   "file_extension": ".py",
   "mimetype": "text/x-python",
   "name": "python",
   "nbconvert_exporter": "python",
   "pygments_lexer": "ipython2",
   "version": "2.7.6"
  }
 },
 "nbformat": 4,
 "nbformat_minor": 0
}
